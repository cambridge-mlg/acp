{
 "cells": [
  {
   "cell_type": "markdown",
   "metadata": {},
   "source": [
    " $\\Large \\textbf{CONSTRUCTING VALID PREDICTION SETS WITH ACP}$"
   ]
  },
  {
   "cell_type": "markdown",
   "metadata": {},
   "source": [
    "This notebook provides an introductory tutorial on Approximate full Conformal Prediction (ACP). The full details can be found in the accompanying paper:\n",
    "\n",
    "Javier Abad, Umang Bhatt, Adrian Weller and Giovanni Cherubin. “Approximating Full Conformal Prediction at Scale via Influence Functions.” 2022."
   ]
  },
  {
   "cell_type": "markdown",
   "metadata": {},
   "source": [
    "$\\textbf{CONSTRUCTING VALID PREDICTION SETS}$"
   ]
  },
  {
   "cell_type": "markdown",
   "metadata": {},
   "source": [
    "Consider a training set $Z=(X, Y) \\in(\\mathcal{X} \\times \\mathcal{Y})^{N}$ of $N$ examples. For a test example $x \\in \\mathcal{X}$ and a chosen significance level $\\varepsilon \\in[0,1]$ a Conformal Predictor (CP) returns a set $\\Gamma^{e} \\subseteq \\mathcal{Y}$ that contains $x$’s true label with probability at least $1-\\varepsilon$. This guarantee (validity) holds for any exchangeable distribution on $Z \\cup\\{(x, y)\\}$.\n",
    "\n",
    "Particularly, full CP is a statistically powerful CP algorithm that attains the validity guarantees while also yielding tight prediction sets (i.e., high efficiency). Unfortunately,  full CP is notoriously computationally expensive. \n",
    "\n",
    "ACP consistently approximates full CP by leveraging Influence Functions (IF). Given a sufficiently large training set, ACP inherits the statistical power of full CP. This enables running full CP at a much reduced computational cost, and allows scaling it to large, real-world datasets. "
   ]
  },
  {
   "cell_type": "markdown",
   "metadata": {},
   "source": [
    "$\\textbf{IMPORTING THE PACKAGES}$"
   ]
  },
  {
   "cell_type": "code",
   "execution_count": 1,
   "metadata": {},
   "outputs": [
    {
     "name": "stdout",
     "output_type": "stream",
     "text": [
      "Using cuda device\n"
     ]
    }
   ],
   "source": [
    "from wrapper import *\n",
    "from utils import *\n",
    "\n",
    "SEED = 42 #for reproducibility\n",
    "np.random.seed(SEED)\n",
    "torch.manual_seed(SEED)\n",
    "torch.cuda.manual_seed(SEED)\n",
    "random.seed(SEED)"
   ]
  },
  {
   "cell_type": "markdown",
   "metadata": {},
   "source": [
    "$\\textbf{DATA}$"
   ]
  },
  {
   "cell_type": "markdown",
   "metadata": {},
   "source": [
    "We generate synthetic data for a 5-class classification problem using scikit-learn’s $\\texttt{make_classification}() $. We sample points from five Gaussian-distributed clusters, one per class. Each object is defined by 10 features. This is a concrete toy example, but feel free to play around with different synthetic settings!"
   ]
  },
  {
   "cell_type": "code",
   "execution_count": 2,
   "metadata": {},
   "outputs": [],
   "source": [
    "TRAIN_SIZE = 1000 #number of training points\n",
    "TEST_SIZE = 10 #number of test points\n",
    "N_CLASSES = 5 #number of classes\n",
    "N_FEATURES = 10 #total number of features \n",
    "N_CLUSTERS = 1 #number of clusters per class\n",
    "N_INFORMATIVE = 3 #number of informative features\n",
    "N_REDUNDANT = 2 #number of redundant features\n",
    "\n",
    "X, Y = make_classification(n_samples = TRAIN_SIZE + TEST_SIZE, n_features = N_FEATURES, n_classes = N_CLASSES,\n",
    "                           n_clusters_per_class = N_CLUSTERS, n_informative = N_INFORMATIVE, random_state = SEED)\n",
    "\n",
    "Xtrain, Xtest, Ytrain, Ytest = train_test_split(X, Y, test_size = TEST_SIZE, random_state = SEED)"
   ]
  },
  {
   "cell_type": "markdown",
   "metadata": {},
   "source": [
    "$\\textbf{FITTING A MODEL}$"
   ]
  },
  {
   "cell_type": "markdown",
   "metadata": {},
   "source": [
    "It’s time to decide the underlying model on top of which we build ACP. Here we use a 2-layers neural network; however, you can plug in any model as long as it is differentiable."
   ]
  },
  {
   "cell_type": "code",
   "execution_count": 3,
   "metadata": {},
   "outputs": [],
   "source": [
    "#Instantiate model\n",
    "\n",
    "NUM_NEURONS = [20,10] #layers and neurons for the NN classifier\n",
    "REG = 0.01\n",
    "model = NeuralNetwork(input_size = N_FEATURES, num_neurons = NUM_NEURONS, out_size = N_CLASSES, seed = SEED, l2_reg = REG)"
   ]
  },
  {
   "cell_type": "markdown",
   "metadata": {},
   "source": [
    "$\\textbf{BUILDING ACP AND GENERATING PREDICTION SETS}$"
   ]
  },
  {
   "cell_type": "markdown",
   "metadata": {},
   "source": [
    "ACP works as a wrapper for an ML model. We now instantiate ACP and generate prediction sets for a chosen significance level $\\varepsilon$. These prediction sets are guaranteed to contain the true class label with confidence at least $1 – \\varepsilon$."
   ]
  },
  {
   "cell_type": "code",
   "execution_count": 4,
   "metadata": {},
   "outputs": [
    {
     "name": "stdout",
     "output_type": "stream",
     "text": [
      "Training model on 1000 samples\n",
      "Epoch: 1 - Validation Loss: 2.6311\n",
      "Epoch: 10 - Validation Loss: 2.0670\n",
      "Epoch: 20 - Validation Loss: 1.7241\n",
      "Epoch: 30 - Validation Loss: 1.4769\n",
      "Epoch: 40 - Validation Loss: 1.3160\n",
      "Epoch: 50 - Validation Loss: 1.2107\n",
      "Epoch: 60 - Validation Loss: 1.1330\n",
      "Epoch: 70 - Validation Loss: 1.0685\n",
      "Epoch: 80 - Validation Loss: 1.0203\n",
      "Epoch: 90 - Validation Loss: 0.9827\n",
      "Epoch: 100 - Validation Loss: 0.9512\n",
      "Epoch: 110 - Validation Loss: 0.9255\n",
      "Epoch: 120 - Validation Loss: 0.9045\n",
      "Epoch: 130 - Validation Loss: 0.8869\n",
      "Epoch: 140 - Validation Loss: 0.8714\n",
      "Epoch: 150 - Validation Loss: 0.8599\n",
      "Epoch: 160 - Validation Loss: 0.8509\n",
      "Epoch: 170 - Validation Loss: 0.8424\n",
      "Epoch: 180 - Validation Loss: 0.8338\n",
      "Epoch: 190 - Validation Loss: 0.8265\n",
      "Epoch: 200 - Validation Loss: 0.8205\n",
      "Computing gradients and Hessian inverse\n",
      "Computing scores for 1000 samples\n",
      "Conformal predictor is ready!\n"
     ]
    }
   ],
   "source": [
    "#Building ACP (deleted)\n",
    "ACP = ACP_D(Xtrain, Ytrain, model, seed = SEED, verbose = True)"
   ]
  },
  {
   "cell_type": "code",
   "execution_count": 5,
   "metadata": {},
   "outputs": [
    {
     "name": "stderr",
     "output_type": "stream",
     "text": [
      "\r",
      "  0%|                                                                                           | 0/10 [00:00<?, ?it/s]"
     ]
    },
    {
     "name": "stdout",
     "output_type": "stream",
     "text": [
      "Computing p-values for 10 samples\n"
     ]
    },
    {
     "name": "stderr",
     "output_type": "stream",
     "text": [
      "100%|██████████████████████████████████████████████████████████████████████████████████| 10/10 [00:21<00:00,  2.14s/it]\n"
     ]
    }
   ],
   "source": [
    "#Generate prediction sets that are guaranteed to contain the true class label with at least a specified probability 1-epsilon\n",
    "eps = 0.1 # 1-0.1 = 0.9 confidence of including the true label\n",
    "sets = ACP.predict(Xtest, eps, out_file = \"results/test\")"
   ]
  },
  {
   "cell_type": "markdown",
   "metadata": {},
   "source": [
    "Let us now look at the generated prediction sets. They are guaranteed to contain the true label with the specified probability $1-\\varepsilon$. "
   ]
  },
  {
   "cell_type": "code",
   "execution_count": 6,
   "metadata": {},
   "outputs": [
    {
     "name": "stdout",
     "output_type": "stream",
     "text": [
      "Prediction sets: [[0, 1], [3], [1], [4], [2], [0, 2], [3, 4], [2], [2], [1]]\n",
      "\n",
      "True labels: [2 3 1 4 2 2 4 2 2 1]\n"
     ]
    }
   ],
   "source": [
    "print(\"Prediction sets: \" + str(list(sets.values()))) #prediction sets\n",
    "print()\n",
    "print(\"True labels: \" + str(Ytest)) #true labels"
   ]
  },
  {
   "cell_type": "markdown",
   "metadata": {},
   "source": [
    "$\\textbf{VALIDITY AND EFFICIENCY OF ACP}$"
   ]
  },
  {
   "cell_type": "markdown",
   "metadata": {},
   "source": [
    "ACP inherits the statistical power of full CP, constructing prediction sets that attain both validity guarantees and high statistical power (i.e., efficiency).\n",
    "\n",
    "We obtain the accuracy of ACP, that is, the rate at which the true label is included in the prediction set. For $\\varepsilon=0.1$, ACP achieves an accuracy of $90\\%$."
   ]
  },
  {
   "cell_type": "code",
   "execution_count": 9,
   "metadata": {},
   "outputs": [
    {
     "name": "stdout",
     "output_type": "stream",
     "text": [
      "ACP's accuracy: 90.0%\n"
     ]
    }
   ],
   "source": [
    "result = pd.read_json(\"results/test\", lines = True) #loading ACP p-values\n",
    "accum_acc = compute_accum_acc(eps, result, Ytest) #computing accuracy for chosen epsilon \n",
    "\n",
    "print(\"ACP's accuracy: {}%\".format(accum_acc[-1]/len(Ytest)*100))"
   ]
  },
  {
   "cell_type": "markdown",
   "metadata": {},
   "source": [
    "Naturally, ACP with $\\varepsilon = 0.1$ is more accurate than just predicting the outcomes based on the raw model's outputs:"
   ]
  },
  {
   "cell_type": "code",
   "execution_count": 10,
   "metadata": {},
   "outputs": [
    {
     "name": "stdout",
     "output_type": "stream",
     "text": [
      "Model's accuracy: 80.0%\n"
     ]
    }
   ],
   "source": [
    "from sklearn.metrics import accuracy_score\n",
    "\n",
    "print(\"Model's accuracy: {}%\".format(accuracy_score(model.predict(Xtest), Ytest)*100))"
   ]
  },
  {
   "cell_type": "markdown",
   "metadata": {},
   "source": [
    "We now consider a single test point chosen uniformly at random. We can plot how the prediction set size changes w.r.t $\\varepsilon$ for ACP. We include the AUC for the interval $\\varepsilon \\in [0,0.2]$ and use it as a proxy of the efficiency (the lower the AUC, the higher the efficiency). This interval captures settings that are generally of practical interest. \n",
    "\n",
    "Additionally, we report with $\\color{lightcoral}\\bigstar$ the highest $\\varepsilon$ for which the prediction set contains the true label.  A higher value indicates that, for this test example, the method would still be accurate with larger $\\varepsilon$, which would correspond to tighter prediction sets. "
   ]
  },
  {
   "cell_type": "code",
   "execution_count": 11,
   "metadata": {},
   "outputs": [],
   "source": [
    "cand = random.randint(0, len(Ytest)-1) #Randomly picking an example from the test set\n",
    "epsilons = np.arange(0,1.01,0.01) #Discretized x axis (epsilons)\n",
    "\n",
    "curve = get_average_interval(result, cand, epsilons) #Computing prediction set size w.r.t epsilon\n",
    "min_eps = find_min_epsilon(result, Ytest, cand, epsilons) #minimum epsilon that contains true label\n",
    "AUC = round(simps(curve[:21], epsilons[:21]),3) #AUC for the interval [0, 0.2]"
   ]
  },
  {
   "cell_type": "code",
   "execution_count": 12,
   "metadata": {},
   "outputs": [
    {
     "data": {
      "image/png": "[encoded data removed]",
      "text/plain": [
       "<Figure size 720x432 with 1 Axes>"
      ]
     },
     "metadata": {
      "needs_background": "light"
     },
     "output_type": "display_data"
    }
   ],
   "source": [
    "plt.style.use('seaborn-paper')\n",
    "plt.rcParams['font.family'] = 'Times New Roman'\n",
    "plt.figure(figsize=(10, 6))\n",
    "\n",
    "plt.plot(epsilons, curve, label =\"ACP (D) (AUC = {})\".format(AUC), linewidth = 3)\n",
    "plt.scatter(min_eps, curve[np.where(epsilons == min_eps)[0][0]], s=550, marker=(5, 1), color = \"lightcoral\", zorder = 3)\n",
    "\n",
    "plt.legend(fontsize = \"24\", shadow = True, facecolor='white', framealpha=1)\n",
    "plt.xscale(\"linear\")\n",
    "plt.xlim([-0.0001, np.round(min_eps,1) + 0.1])\n",
    "plt.ylim([-0.01, N_CLASSES])\n",
    "plt.xticks(np.arange(0, np.round(min_eps,1) + 0.2, 0.1), fontsize = \"28\")\n",
    "plt.yticks(np.arange(N_CLASSES+1).tolist(), fontsize = \"28\")\n",
    "plt.ylabel(\"Prediction set size\", fontsize = \"36\")\n",
    "plt.xlabel(r\"$\\epsilon$\", fontsize = \"30\")\n",
    "plt.axvline(x=eps, color = \"black\", linewidth = 2, linestyle = \"--\")\n",
    "\n",
    "plt.grid()\n",
    "plt.tight_layout()"
   ]
  },
  {
   "cell_type": "markdown",
   "metadata": {},
   "source": [
    "We can measure the efficiency on the whole test set by averaging across points. Again, we report the AUC in $\\varepsilon \\in [0,0.2]$."
   ]
  },
  {
   "cell_type": "code",
   "execution_count": 13,
   "metadata": {},
   "outputs": [],
   "source": [
    "curve_all = epsilon_curves(result, epsilons) #average prediction set size w.r.t epsilon\n",
    "AUC_all = round(simps(curve_all[:21], epsilons[:21]),3) #AUC"
   ]
  },
  {
   "cell_type": "code",
   "execution_count": 14,
   "metadata": {},
   "outputs": [
    {
     "data": {
      "image/png": "[encoded data removed]",
      "text/plain": [
       "<Figure size 720x432 with 1 Axes>"
      ]
     },
     "metadata": {
      "needs_background": "light"
     },
     "output_type": "display_data"
    }
   ],
   "source": [
    "plt.figure(figsize=(10, 6))\n",
    "plt.plot(epsilons, curve_all, label =\"ACP (D) (AUC = {})\".format(AUC_all), linewidth = 3)\n",
    "plt.legend(fontsize = \"24\", shadow = True, facecolor='white', framealpha=1)\n",
    "plt.xscale(\"linear\")\n",
    "plt.xlim([-0.0001, 1.0])\n",
    "plt.ylim([-0.01, N_CLASSES])\n",
    "plt.xticks(fontsize = \"28\")\n",
    "plt.yticks(np.arange(N_CLASSES+1).tolist(), fontsize = \"28\")\n",
    "plt.ylabel(\"Prediction set size\", fontsize = \"36\")\n",
    "plt.xlabel(r\"$\\epsilon$\", fontsize = \"30\")\n",
    "\n",
    "plt.grid()\n",
    "plt.tight_layout()"
   ]
  },
  {
   "cell_type": "markdown",
   "metadata": {},
   "source": [
    "$\\textbf{EFFICIENCY COMPARISON}$"
   ]
  },
  {
   "cell_type": "markdown",
   "metadata": {},
   "source": [
    "We now consider main-stream CP alternatives, and compare them empirically with ACP on the basis of their predictive power (efficiency). We study split CP (SCP), RAPS and CV+. We keep the same underlying classifier."
   ]
  },
  {
   "cell_type": "code",
   "execution_count": 15,
   "metadata": {
    "scrolled": true
   },
   "outputs": [
    {
     "name": "stdout",
     "output_type": "stream",
     "text": [
      "Epoch: 1 - Validation Loss: 2.5670\n",
      "Epoch: 10 - Validation Loss: 2.1020\n",
      "Epoch: 20 - Validation Loss: 1.7851\n",
      "Epoch: 30 - Validation Loss: 1.5303\n",
      "Epoch: 40 - Validation Loss: 1.3565\n",
      "Epoch: 50 - Validation Loss: 1.2445\n",
      "Epoch: 60 - Validation Loss: 1.1695\n",
      "Epoch: 70 - Validation Loss: 1.1158\n",
      "Epoch: 80 - Validation Loss: 1.0719\n",
      "Epoch: 90 - Validation Loss: 1.0301\n",
      "Epoch: 100 - Validation Loss: 1.0038\n",
      "Epoch: 110 - Validation Loss: 0.9739\n",
      "Epoch: 120 - Validation Loss: 0.9516\n",
      "Epoch: 130 - Validation Loss: 0.9343\n",
      "Epoch: 140 - Validation Loss: 0.9195\n",
      "Epoch: 150 - Validation Loss: 0.9007\n",
      "Epoch: 160 - Validation Loss: 0.8921\n",
      "Epoch: 170 - Validation Loss: 0.8803\n",
      "Epoch: 180 - Validation Loss: 0.8658\n",
      "Epoch: 190 - Validation Loss: 0.8567\n",
      "Epoch: 200 - Validation Loss: 0.8511\n"
     ]
    }
   ],
   "source": [
    "#SCP\n",
    "\n",
    "from others import split_cp\n",
    "\n",
    "model = NeuralNetwork(input_size = N_FEATURES, num_neurons = NUM_NEURONS, out_size = N_CLASSES, \n",
    "                      seed = SEED, l2_reg = REG).to(device)\n",
    "_, _ = split_cp(model, Xtrain, Ytrain, Xtest, labels=np.unique(Ytrain).tolist(), out_file = \"results/test_split_cp\", \n",
    "                validation_split = 0.2)\n",
    "\n",
    "result_split_cp = pd.read_json(\"results/test_split_cp\", lines = True) #load p-values\n",
    "curve_all_split_cp = epsilon_curves(result_split_cp, epsilons) #average prediction set size w.r.t epsilon\n",
    "AUC_all_split_cp = round(simps(curve_all_split_cp[:21], epsilons[:21]),3) #AUC"
   ]
  },
  {
   "cell_type": "code",
   "execution_count": 16,
   "metadata": {
    "scrolled": true
   },
   "outputs": [
    {
     "name": "stdout",
     "output_type": "stream",
     "text": [
      "Epoch: 1 - Validation Loss: 2.5670\n",
      "Epoch: 10 - Validation Loss: 2.1020\n",
      "Epoch: 20 - Validation Loss: 1.7851\n",
      "Epoch: 30 - Validation Loss: 1.5303\n",
      "Epoch: 40 - Validation Loss: 1.3565\n",
      "Epoch: 50 - Validation Loss: 1.2445\n",
      "Epoch: 60 - Validation Loss: 1.1695\n",
      "Epoch: 70 - Validation Loss: 1.1158\n",
      "Epoch: 80 - Validation Loss: 1.0719\n",
      "Epoch: 90 - Validation Loss: 1.0301\n",
      "Epoch: 100 - Validation Loss: 1.0038\n",
      "Epoch: 110 - Validation Loss: 0.9739\n",
      "Epoch: 120 - Validation Loss: 0.9516\n",
      "Epoch: 130 - Validation Loss: 0.9343\n",
      "Epoch: 140 - Validation Loss: 0.9195\n",
      "Epoch: 150 - Validation Loss: 0.9007\n",
      "Epoch: 160 - Validation Loss: 0.8921\n",
      "Epoch: 170 - Validation Loss: 0.8803\n",
      "Epoch: 180 - Validation Loss: 0.8658\n",
      "Epoch: 190 - Validation Loss: 0.8567\n"
     ]
    },
    {
     "name": "stderr",
     "output_type": "stream",
     "text": [
      "100%|███████████████████████████████████████████████████████████████████████████████████| 2/2 [00:00<00:00, 331.30it/s]\n",
      "100%|███████████████████████████████████████████████████████████████████████████████████| 2/2 [00:00<00:00, 495.58it/s]"
     ]
    },
    {
     "name": "stdout",
     "output_type": "stream",
     "text": [
      "Epoch: 200 - Validation Loss: 0.8511\n",
      "Begin Platt scaling.\n",
      "Computing logits for model (only happens once).\n",
      "Optimal T=1.2973188161849976\n",
      "Begin Platt scaling.\n",
      "Computing logits for model (only happens once).\n",
      "Optimal T=1.2970964908599854\n"
     ]
    },
    {
     "name": "stderr",
     "output_type": "stream",
     "text": [
      "\n",
      "100%|███████████████████████████████████████████████████████████████████████████████████| 2/2 [00:00<00:00, 500.39it/s]\n",
      "100%|███████████████████████████████████████████████████████████████████████████████████| 2/2 [00:00<00:00, 666.87it/s]"
     ]
    },
    {
     "name": "stdout",
     "output_type": "stream",
     "text": [
      "Begin Platt scaling.\n",
      "Computing logits for model (only happens once).\n",
      "Optimal T=1.2974798679351807\n",
      "Begin Platt scaling.\n",
      "Computing logits for model (only happens once).\n",
      "Optimal T=1.2971707582473755\n"
     ]
    },
    {
     "name": "stderr",
     "output_type": "stream",
     "text": [
      "\n",
      "100%|███████████████████████████████████████████████████████████████████████████████████| 2/2 [00:00<00:00, 666.82it/s]\n",
      "100%|███████████████████████████████████████████████████████████████████████████████████| 2/2 [00:00<00:00, 400.09it/s]\n"
     ]
    },
    {
     "name": "stdout",
     "output_type": "stream",
     "text": [
      "Begin Platt scaling.\n",
      "Computing logits for model (only happens once).\n",
      "Optimal T=1.297473669052124\n",
      "Begin Platt scaling.\n",
      "Computing logits for model (only happens once).\n",
      "Optimal T=1.2974791526794434\n"
     ]
    },
    {
     "name": "stderr",
     "output_type": "stream",
     "text": [
      "100%|███████████████████████████████████████████████████████████████████████████████████| 2/2 [00:00<00:00, 402.10it/s]\n",
      "100%|███████████████████████████████████████████████████████████████████████████████████| 2/2 [00:00<00:00, 500.13it/s]\n"
     ]
    },
    {
     "name": "stdout",
     "output_type": "stream",
     "text": [
      "Begin Platt scaling.\n",
      "Computing logits for model (only happens once).\n",
      "Optimal T=1.2974460124969482\n",
      "Begin Platt scaling.\n",
      "Computing logits for model (only happens once).\n",
      "Optimal T=1.2974650859832764\n"
     ]
    },
    {
     "name": "stderr",
     "output_type": "stream",
     "text": [
      "100%|███████████████████████████████████████████████████████████████████████████████████| 2/2 [00:00<00:00, 499.98it/s]\n",
      "100%|███████████████████████████████████████████████████████████████████████████████████| 2/2 [00:00<00:00, 401.18it/s]"
     ]
    },
    {
     "name": "stdout",
     "output_type": "stream",
     "text": [
      "Begin Platt scaling.\n",
      "Computing logits for model (only happens once).\n",
      "Optimal T=1.2975374460220337\n",
      "Begin Platt scaling.\n",
      "Computing logits for model (only happens once).\n",
      "Optimal T=1.2973519563674927\n"
     ]
    },
    {
     "name": "stderr",
     "output_type": "stream",
     "text": [
      "\n",
      "100%|███████████████████████████████████████████████████████████████████████████████████| 2/2 [00:00<00:00, 500.01it/s]\n",
      "100%|███████████████████████████████████████████████████████████████████████████████████| 2/2 [00:00<00:00, 667.03it/s]\n"
     ]
    },
    {
     "name": "stdout",
     "output_type": "stream",
     "text": [
      "Begin Platt scaling.\n",
      "Computing logits for model (only happens once).\n",
      "Optimal T=1.2972733974456787\n",
      "Begin Platt scaling.\n",
      "Computing logits for model (only happens once).\n",
      "Optimal T=1.2974302768707275\n",
      "Begin Platt scaling.\n"
     ]
    },
    {
     "name": "stderr",
     "output_type": "stream",
     "text": [
      "100%|███████████████████████████████████████████████████████████████████████████████████| 2/2 [00:00<00:00, 499.80it/s]\n",
      "100%|███████████████████████████████████████████████████████████████████████████████████| 2/2 [00:00<00:00, 399.25it/s]\n"
     ]
    },
    {
     "name": "stdout",
     "output_type": "stream",
     "text": [
      "Computing logits for model (only happens once).\n",
      "Optimal T=1.2971829175949097\n",
      "Begin Platt scaling.\n",
      "Computing logits for model (only happens once).\n",
      "Optimal T=1.2973366975784302\n"
     ]
    },
    {
     "name": "stderr",
     "output_type": "stream",
     "text": [
      "100%|███████████████████████████████████████████████████████████████████████████████████| 2/2 [00:00<00:00, 399.70it/s]\n",
      "100%|███████████████████████████████████████████████████████████████████████████████████| 2/2 [00:00<00:00, 500.04it/s]\n"
     ]
    },
    {
     "name": "stdout",
     "output_type": "stream",
     "text": [
      "Begin Platt scaling.\n",
      "Computing logits for model (only happens once).\n",
      "Optimal T=1.297360897064209\n",
      "Begin Platt scaling.\n",
      "Computing logits for model (only happens once).\n",
      "Optimal T=1.2972776889801025\n"
     ]
    },
    {
     "name": "stderr",
     "output_type": "stream",
     "text": [
      "100%|███████████████████████████████████████████████████████████████████████████████████| 2/2 [00:00<00:00, 500.04it/s]\n",
      "100%|███████████████████████████████████████████████████████████████████████████████████| 2/2 [00:00<00:00, 500.10it/s]\n"
     ]
    },
    {
     "name": "stdout",
     "output_type": "stream",
     "text": [
      "Begin Platt scaling.\n",
      "Computing logits for model (only happens once).\n",
      "Optimal T=1.2970017194747925\n",
      "Begin Platt scaling.\n",
      "Computing logits for model (only happens once).\n",
      "Optimal T=1.2976771593093872\n"
     ]
    },
    {
     "name": "stderr",
     "output_type": "stream",
     "text": [
      "100%|███████████████████████████████████████████████████████████████████████████████████| 2/2 [00:00<00:00, 500.07it/s]\n",
      "100%|███████████████████████████████████████████████████████████████████████████████████| 2/2 [00:00<00:00, 499.95it/s]\n"
     ]
    },
    {
     "name": "stdout",
     "output_type": "stream",
     "text": [
      "Begin Platt scaling.\n",
      "Computing logits for model (only happens once).\n",
      "Optimal T=1.2973579168319702\n",
      "Begin Platt scaling.\n",
      "Computing logits for model (only happens once).\n",
      "Optimal T=1.297433853149414\n",
      "Begin Platt scaling.\n"
     ]
    },
    {
     "name": "stderr",
     "output_type": "stream",
     "text": [
      "100%|███████████████████████████████████████████████████████████████████████████████████| 2/2 [00:00<00:00, 499.89it/s]\n",
      "100%|███████████████████████████████████████████████████████████████████████████████████| 2/2 [00:00<00:00, 499.71it/s]\n"
     ]
    },
    {
     "name": "stdout",
     "output_type": "stream",
     "text": [
      "Computing logits for model (only happens once).\n",
      "Optimal T=1.297048807144165\n",
      "Begin Platt scaling.\n",
      "Computing logits for model (only happens once).\n",
      "Optimal T=1.2973729372024536\n",
      "Begin Platt scaling.\n"
     ]
    },
    {
     "name": "stderr",
     "output_type": "stream",
     "text": [
      "100%|███████████████████████████████████████████████████████████████████████████████████| 2/2 [00:00<00:00, 399.74it/s]\n",
      "100%|███████████████████████████████████████████████████████████████████████████████████| 2/2 [00:00<00:00, 500.01it/s]\n"
     ]
    },
    {
     "name": "stdout",
     "output_type": "stream",
     "text": [
      "Computing logits for model (only happens once).\n",
      "Optimal T=1.297621488571167\n",
      "Begin Platt scaling.\n",
      "Computing logits for model (only happens once).\n",
      "Optimal T=1.2973099946975708\n"
     ]
    },
    {
     "name": "stderr",
     "output_type": "stream",
     "text": [
      "100%|███████████████████████████████████████████████████████████████████████████████████| 2/2 [00:00<00:00, 499.92it/s]\n",
      "100%|███████████████████████████████████████████████████████████████████████████████████| 2/2 [00:00<00:00, 499.95it/s]\n"
     ]
    },
    {
     "name": "stdout",
     "output_type": "stream",
     "text": [
      "Begin Platt scaling.\n",
      "Computing logits for model (only happens once).\n",
      "Optimal T=1.2972809076309204\n",
      "Begin Platt scaling.\n",
      "Computing logits for model (only happens once).\n",
      "Optimal T=1.2971653938293457\n"
     ]
    },
    {
     "name": "stderr",
     "output_type": "stream",
     "text": [
      "100%|███████████████████████████████████████████████████████████████████████████████████| 2/2 [00:00<00:00, 400.01it/s]\n",
      "100%|███████████████████████████████████████████████████████████████████████████████████| 2/2 [00:00<00:00, 499.86it/s]\n"
     ]
    },
    {
     "name": "stdout",
     "output_type": "stream",
     "text": [
      "Begin Platt scaling.\n",
      "Computing logits for model (only happens once).\n",
      "Optimal T=1.297346591949463\n",
      "Begin Platt scaling.\n",
      "Computing logits for model (only happens once).\n",
      "Optimal T=1.2974915504455566\n"
     ]
    },
    {
     "name": "stderr",
     "output_type": "stream",
     "text": [
      "100%|███████████████████████████████████████████████████████████████████████████████████| 2/2 [00:00<00:00, 500.30it/s]\n",
      "100%|███████████████████████████████████████████████████████████████████████████████████| 2/2 [00:00<00:00, 499.98it/s]\n"
     ]
    },
    {
     "name": "stdout",
     "output_type": "stream",
     "text": [
      "Begin Platt scaling.\n",
      "Computing logits for model (only happens once).\n",
      "Optimal T=1.29725182056427\n",
      "Begin Platt scaling.\n",
      "Computing logits for model (only happens once).\n",
      "Optimal T=1.297269344329834\n",
      "Begin Platt scaling.\n",
      "Computing logits for model (only happens once).\n"
     ]
    },
    {
     "name": "stderr",
     "output_type": "stream",
     "text": [
      "100%|███████████████████████████████████████████████████████████████████████████████████| 2/2 [00:00<00:00, 495.99it/s]\n",
      "100%|███████████████████████████████████████████████████████████████████████████████████| 2/2 [00:00<00:00, 499.89it/s]\n"
     ]
    },
    {
     "name": "stdout",
     "output_type": "stream",
     "text": [
      "Optimal T=1.2974460124969482\n",
      "Begin Platt scaling.\n",
      "Computing logits for model (only happens once).\n",
      "Optimal T=1.2974084615707397\n",
      "Begin Platt scaling.\n"
     ]
    },
    {
     "name": "stderr",
     "output_type": "stream",
     "text": [
      "100%|███████████████████████████████████████████████████████████████████████████████████| 2/2 [00:00<00:00, 499.56it/s]\n",
      "100%|███████████████████████████████████████████████████████████████████████████████████| 2/2 [00:00<00:00, 399.72it/s]\n"
     ]
    },
    {
     "name": "stdout",
     "output_type": "stream",
     "text": [
      "Computing logits for model (only happens once).\n",
      "Optimal T=1.2973929643630981\n",
      "Begin Platt scaling.\n",
      "Computing logits for model (only happens once).\n",
      "Optimal T=1.297518014907837\n"
     ]
    },
    {
     "name": "stderr",
     "output_type": "stream",
     "text": [
      "100%|███████████████████████████████████████████████████████████████████████████████████| 2/2 [00:00<00:00, 500.19it/s]\n",
      "100%|███████████████████████████████████████████████████████████████████████████████████| 2/2 [00:00<00:00, 502.13it/s]\n"
     ]
    },
    {
     "name": "stdout",
     "output_type": "stream",
     "text": [
      "Begin Platt scaling.\n",
      "Computing logits for model (only happens once).\n",
      "Optimal T=1.2973302602767944\n",
      "Begin Platt scaling.\n",
      "Computing logits for model (only happens once).\n",
      "Optimal T=1.2976725101470947\n"
     ]
    },
    {
     "name": "stderr",
     "output_type": "stream",
     "text": [
      "100%|███████████████████████████████████████████████████████████████████████████████████| 2/2 [00:00<00:00, 500.42it/s]\n",
      "100%|███████████████████████████████████████████████████████████████████████████████████| 2/2 [00:00<00:00, 399.78it/s]"
     ]
    },
    {
     "name": "stdout",
     "output_type": "stream",
     "text": [
      "Begin Platt scaling.\n",
      "Computing logits for model (only happens once).\n",
      "Optimal T=1.2974978685379028\n",
      "Begin Platt scaling.\n",
      "Computing logits for model (only happens once).\n",
      "Optimal T=1.297617793083191\n"
     ]
    },
    {
     "name": "stderr",
     "output_type": "stream",
     "text": [
      "\n",
      "100%|███████████████████████████████████████████████████████████████████████████████████| 2/2 [00:00<00:00, 399.46it/s]\n",
      "100%|███████████████████████████████████████████████████████████████████████████████████| 2/2 [00:00<00:00, 394.96it/s]\n"
     ]
    },
    {
     "name": "stdout",
     "output_type": "stream",
     "text": [
      "Begin Platt scaling.\n",
      "Computing logits for model (only happens once).\n",
      "Optimal T=1.298241376876831\n",
      "Begin Platt scaling.\n",
      "Computing logits for model (only happens once).\n",
      "Optimal T=1.2972431182861328\n"
     ]
    },
    {
     "name": "stderr",
     "output_type": "stream",
     "text": [
      "100%|███████████████████████████████████████████████████████████████████████████████████| 2/2 [00:00<00:00, 399.63it/s]\n",
      "100%|███████████████████████████████████████████████████████████████████████████████████| 2/2 [00:00<00:00, 333.08it/s]\n"
     ]
    },
    {
     "name": "stdout",
     "output_type": "stream",
     "text": [
      "Begin Platt scaling.\n",
      "Computing logits for model (only happens once).\n",
      "Optimal T=1.2973392009735107\n",
      "Begin Platt scaling.\n",
      "Computing logits for model (only happens once).\n",
      "Optimal T=1.2972544431686401\n"
     ]
    },
    {
     "name": "stderr",
     "output_type": "stream",
     "text": [
      "100%|███████████████████████████████████████████████████████████████████████████████████| 2/2 [00:00<00:00, 495.34it/s]\n",
      "100%|███████████████████████████████████████████████████████████████████████████████████| 2/2 [00:00<00:00, 499.62it/s]"
     ]
    },
    {
     "name": "stdout",
     "output_type": "stream",
     "text": [
      "Begin Platt scaling.\n",
      "Computing logits for model (only happens once).\n",
      "Optimal T=1.2974588871002197\n",
      "Begin Platt scaling.\n",
      "Computing logits for model (only happens once).\n",
      "Optimal T=1.2972010374069214\n"
     ]
    },
    {
     "name": "stderr",
     "output_type": "stream",
     "text": [
      "\n",
      "100%|███████████████████████████████████████████████████████████████████████████████████| 2/2 [00:00<00:00, 499.83it/s]\n",
      "100%|███████████████████████████████████████████████████████████████████████████████████| 2/2 [00:00<00:00, 500.16it/s]\n"
     ]
    },
    {
     "name": "stdout",
     "output_type": "stream",
     "text": [
      "Begin Platt scaling.\n",
      "Computing logits for model (only happens once).\n",
      "Optimal T=1.2978899478912354\n",
      "Begin Platt scaling.\n",
      "Computing logits for model (only happens once).\n",
      "Optimal T=1.2975167036056519\n",
      "Begin Platt scaling.\n"
     ]
    },
    {
     "name": "stderr",
     "output_type": "stream",
     "text": [
      "100%|███████████████████████████████████████████████████████████████████████████████████| 2/2 [00:00<00:00, 400.01it/s]\n",
      "100%|███████████████████████████████████████████████████████████████████████████████████| 2/2 [00:00<00:00, 499.44it/s]\n"
     ]
    },
    {
     "name": "stdout",
     "output_type": "stream",
     "text": [
      "Computing logits for model (only happens once).\n",
      "Optimal T=1.2972978353500366\n",
      "Begin Platt scaling.\n",
      "Computing logits for model (only happens once).\n",
      "Optimal T=1.2976809740066528\n",
      "Begin Platt scaling."
     ]
    },
    {
     "name": "stderr",
     "output_type": "stream",
     "text": [
      "100%|███████████████████████████████████████████████████████████████████████████████████| 2/2 [00:00<00:00, 500.22it/s]\n",
      "100%|███████████████████████████████████████████████████████████████████████████████████| 2/2 [00:00<00:00, 500.45it/s]"
     ]
    },
    {
     "name": "stdout",
     "output_type": "stream",
     "text": [
      "\n",
      "Computing logits for model (only happens once).\n",
      "Optimal T=1.2973819971084595\n",
      "Begin Platt scaling.\n",
      "Computing logits for model (only happens once).\n",
      "Optimal T=1.2974926233291626\n",
      "Begin Platt scaling.\n"
     ]
    },
    {
     "name": "stderr",
     "output_type": "stream",
     "text": [
      "\n",
      "100%|███████████████████████████████████████████████████████████████████████████████████| 2/2 [00:00<00:00, 499.86it/s]\n",
      "100%|███████████████████████████████████████████████████████████████████████████████████| 2/2 [00:00<00:00, 500.19it/s]\n"
     ]
    },
    {
     "name": "stdout",
     "output_type": "stream",
     "text": [
      "Computing logits for model (only happens once).\n",
      "Optimal T=1.2972356081008911\n",
      "Begin Platt scaling.\n",
      "Computing logits for model (only happens once).\n",
      "Optimal T=1.2971307039260864\n",
      "Begin Platt scaling.\n",
      "Computing logits for model (only happens once).\n"
     ]
    },
    {
     "name": "stderr",
     "output_type": "stream",
     "text": [
      "100%|███████████████████████████████████████████████████████████████████████████████████| 2/2 [00:00<00:00, 499.83it/s]\n",
      "100%|███████████████████████████████████████████████████████████████████████████████████| 2/2 [00:00<00:00, 499.68it/s]\n",
      "100%|███████████████████████████████████████████████████████████████████████████████████| 2/2 [00:00<00:00, 499.98it/s]"
     ]
    },
    {
     "name": "stdout",
     "output_type": "stream",
     "text": [
      "Optimal T=1.297628402709961\n",
      "Begin Platt scaling.\n",
      "Computing logits for model (only happens once).\n",
      "Optimal T=1.297758936882019\n",
      "Begin Platt scaling.\n",
      "Computing logits for model (only happens once).\n"
     ]
    },
    {
     "name": "stderr",
     "output_type": "stream",
     "text": [
      "\n",
      "100%|███████████████████████████████████████████████████████████████████████████████████| 2/2 [00:00<00:00, 667.09it/s]\n"
     ]
    },
    {
     "name": "stdout",
     "output_type": "stream",
     "text": [
      "Optimal T=1.2970008850097656\n",
      "Begin Platt scaling.\n",
      "Computing logits for model (only happens once).\n",
      "Optimal T=1.2974770069122314\n",
      "Begin Platt scaling.\n"
     ]
    },
    {
     "name": "stderr",
     "output_type": "stream",
     "text": [
      "100%|███████████████████████████████████████████████████████████████████████████████████| 2/2 [00:00<00:00, 666.19it/s]\n",
      "100%|███████████████████████████████████████████████████████████████████████████████████| 2/2 [00:00<00:00, 499.86it/s]\n",
      "  0%|                                                                                            | 0/2 [00:00<?, ?it/s]"
     ]
    },
    {
     "name": "stdout",
     "output_type": "stream",
     "text": [
      "Computing logits for model (only happens once).\n",
      "Optimal T=1.2976391315460205\n",
      "Begin Platt scaling.\n",
      "Computing logits for model (only happens once).\n",
      "Optimal T=1.2978582382202148\n",
      "Begin Platt scaling.\n",
      "Computing logits for model (only happens once).\n"
     ]
    },
    {
     "name": "stderr",
     "output_type": "stream",
     "text": [
      "100%|███████████████████████████████████████████████████████████████████████████████████| 2/2 [00:00<00:00, 499.29it/s]\n",
      "100%|███████████████████████████████████████████████████████████████████████████████████| 2/2 [00:00<00:00, 500.30it/s]\n"
     ]
    },
    {
     "name": "stdout",
     "output_type": "stream",
     "text": [
      "Optimal T=1.2974088191986084\n",
      "Begin Platt scaling.\n",
      "Computing logits for model (only happens once).\n",
      "Optimal T=1.297268271446228\n",
      "Begin Platt scaling.\n"
     ]
    },
    {
     "name": "stderr",
     "output_type": "stream",
     "text": [
      "100%|███████████████████████████████████████████████████████████████████████████████████| 2/2 [00:00<00:00, 666.08it/s]\n",
      "100%|███████████████████████████████████████████████████████████████████████████████████| 2/2 [00:00<00:00, 499.77it/s]\n",
      "100%|███████████████████████████████████████████████████████████████████████████████████| 2/2 [00:00<00:00, 665.82it/s]"
     ]
    },
    {
     "name": "stdout",
     "output_type": "stream",
     "text": [
      "Computing logits for model (only happens once).\n",
      "Optimal T=1.2978554964065552\n",
      "Begin Platt scaling.\n",
      "Computing logits for model (only happens once).\n",
      "Optimal T=1.2975497245788574\n",
      "Begin Platt scaling.\n",
      "Computing logits for model (only happens once).\n"
     ]
    },
    {
     "name": "stderr",
     "output_type": "stream",
     "text": [
      "\n",
      "100%|███████████████████████████████████████████████████████████████████████████████████| 2/2 [00:00<00:00, 500.22it/s]\n"
     ]
    },
    {
     "name": "stdout",
     "output_type": "stream",
     "text": [
      "Optimal T=1.2970860004425049\n",
      "Begin Platt scaling.\n",
      "Computing logits for model (only happens once).\n",
      "Optimal T=1.2975542545318604\n",
      "Begin Platt scaling.\n"
     ]
    },
    {
     "name": "stderr",
     "output_type": "stream",
     "text": [
      "100%|███████████████████████████████████████████████████████████████████████████████████| 2/2 [00:00<00:00, 499.41it/s]\n",
      "100%|███████████████████████████████████████████████████████████████████████████████████| 2/2 [00:00<00:00, 666.08it/s]\n"
     ]
    },
    {
     "name": "stdout",
     "output_type": "stream",
     "text": [
      "Computing logits for model (only happens once).\n",
      "Optimal T=1.297382116317749\n",
      "Begin Platt scaling.\n",
      "Computing logits for model (only happens once).\n",
      "Optimal T=1.29744291305542\n",
      "Begin Platt scaling.\n",
      "Computing logits for model (only happens once).\n"
     ]
    },
    {
     "name": "stderr",
     "output_type": "stream",
     "text": [
      "100%|███████████████████████████████████████████████████████████████████████████████████| 2/2 [00:00<00:00, 666.08it/s]\n",
      "100%|███████████████████████████████████████████████████████████████████████████████████| 2/2 [00:00<00:00, 499.92it/s]\n"
     ]
    },
    {
     "name": "stdout",
     "output_type": "stream",
     "text": [
      "Optimal T=1.297291874885559\n",
      "Begin Platt scaling.\n",
      "Computing logits for model (only happens once).\n",
      "Optimal T=1.2975159883499146\n",
      "Begin Platt scaling.\n",
      "Computing logits for model (only happens once).\n"
     ]
    },
    {
     "name": "stderr",
     "output_type": "stream",
     "text": [
      "100%|███████████████████████████████████████████████████████████████████████████████████| 2/2 [00:00<00:00, 499.98it/s]\n",
      "100%|███████████████████████████████████████████████████████████████████████████████████| 2/2 [00:00<00:00, 666.08it/s]\n"
     ]
    },
    {
     "name": "stdout",
     "output_type": "stream",
     "text": [
      "Optimal T=1.2976092100143433\n",
      "Begin Platt scaling.\n",
      "Computing logits for model (only happens once).\n",
      "Optimal T=1.2975876331329346\n",
      "Begin Platt scaling.\n"
     ]
    },
    {
     "name": "stderr",
     "output_type": "stream",
     "text": [
      "100%|███████████████████████████████████████████████████████████████████████████████████| 2/2 [00:00<00:00, 499.56it/s]\n",
      "100%|███████████████████████████████████████████████████████████████████████████████████| 2/2 [00:00<00:00, 500.01it/s]\n"
     ]
    },
    {
     "name": "stdout",
     "output_type": "stream",
     "text": [
      "Computing logits for model (only happens once).\n",
      "Optimal T=1.2975786924362183\n",
      "Begin Platt scaling.\n",
      "Computing logits for model (only happens once).\n",
      "Optimal T=1.2971653938293457\n",
      "Begin Platt scaling.\n",
      "Computing logits for model (only happens once).\n"
     ]
    },
    {
     "name": "stderr",
     "output_type": "stream",
     "text": [
      "100%|███████████████████████████████████████████████████████████████████████████████████| 2/2 [00:00<00:00, 500.01it/s]\n",
      "100%|███████████████████████████████████████████████████████████████████████████████████| 2/2 [00:00<00:00, 499.62it/s]\n"
     ]
    },
    {
     "name": "stdout",
     "output_type": "stream",
     "text": [
      "Optimal T=1.2976526021957397\n",
      "Begin Platt scaling.\n",
      "Computing logits for model (only happens once).\n",
      "Optimal T=1.2974516153335571\n",
      "Begin Platt scaling.\n"
     ]
    },
    {
     "name": "stderr",
     "output_type": "stream",
     "text": [
      "100%|███████████████████████████████████████████████████████████████████████████████████| 2/2 [00:00<00:00, 399.80it/s]\n",
      "100%|███████████████████████████████████████████████████████████████████████████████████| 2/2 [00:00<00:00, 660.21it/s]\n"
     ]
    },
    {
     "name": "stdout",
     "output_type": "stream",
     "text": [
      "Computing logits for model (only happens once).\n",
      "Optimal T=1.297850489616394\n",
      "Begin Platt scaling.\n",
      "Computing logits for model (only happens once).\n",
      "Optimal T=1.2971857786178589\n",
      "Begin Platt scaling.\n",
      "Computing logits for model (only happens once).\n"
     ]
    },
    {
     "name": "stderr",
     "output_type": "stream",
     "text": [
      "100%|███████████████████████████████████████████████████████████████████████████████████| 2/2 [00:00<00:00, 496.10it/s]\n",
      "100%|███████████████████████████████████████████████████████████████████████████████████| 2/2 [00:00<00:00, 500.19it/s]\n"
     ]
    },
    {
     "name": "stdout",
     "output_type": "stream",
     "text": [
      "Optimal T=1.2973291873931885\n",
      "Begin Platt scaling.\n",
      "Computing logits for model (only happens once).\n",
      "Optimal T=1.2976106405258179\n",
      "Begin Platt scaling.\n"
     ]
    },
    {
     "name": "stderr",
     "output_type": "stream",
     "text": [
      "100%|███████████████████████████████████████████████████████████████████████████████████| 2/2 [00:00<00:00, 495.84it/s]\n",
      "100%|███████████████████████████████████████████████████████████████████████████████████| 2/2 [00:00<00:00, 500.19it/s]\n",
      "  0%|                                                                                            | 0/2 [00:00<?, ?it/s]"
     ]
    },
    {
     "name": "stdout",
     "output_type": "stream",
     "text": [
      "Computing logits for model (only happens once).\n",
      "Optimal T=1.2976864576339722\n",
      "Begin Platt scaling.\n",
      "Computing logits for model (only happens once).\n",
      "Optimal T=1.2972338199615479\n",
      "Begin Platt scaling.\n",
      "Computing logits for model (only happens once).\n"
     ]
    },
    {
     "name": "stderr",
     "output_type": "stream",
     "text": [
      "100%|███████████████████████████████████████████████████████████████████████████████████| 2/2 [00:00<00:00, 499.50it/s]\n",
      "100%|███████████████████████████████████████████████████████████████████████████████████| 2/2 [00:00<00:00, 500.27it/s]\n"
     ]
    },
    {
     "name": "stdout",
     "output_type": "stream",
     "text": [
      "Optimal T=1.297615647315979\n",
      "Begin Platt scaling.\n",
      "Computing logits for model (only happens once).\n",
      "Optimal T=1.2977243661880493\n",
      "Begin Platt scaling.\n",
      "Computing logits for model (only happens once).\n"
     ]
    },
    {
     "name": "stderr",
     "output_type": "stream",
     "text": [
      "100%|███████████████████████████████████████████████████████████████████████████████████| 2/2 [00:00<00:00, 496.10it/s]\n",
      "100%|███████████████████████████████████████████████████████████████████████████████████| 2/2 [00:00<00:00, 500.27it/s]\n"
     ]
    },
    {
     "name": "stdout",
     "output_type": "stream",
     "text": [
      "Optimal T=1.297289252281189\n",
      "Begin Platt scaling.\n",
      "Computing logits for model (only happens once).\n",
      "Optimal T=1.2973583936691284\n",
      "Begin Platt scaling.\n"
     ]
    },
    {
     "name": "stderr",
     "output_type": "stream",
     "text": [
      "100%|███████████████████████████████████████████████████████████████████████████████████| 2/2 [00:00<00:00, 499.11it/s]\n",
      "100%|███████████████████████████████████████████████████████████████████████████████████| 2/2 [00:00<00:00, 499.86it/s]\n"
     ]
    },
    {
     "name": "stdout",
     "output_type": "stream",
     "text": [
      "Computing logits for model (only happens once).\n",
      "Optimal T=1.2972508668899536\n",
      "Begin Platt scaling.\n",
      "Computing logits for model (only happens once).\n",
      "Optimal T=1.297642469406128\n",
      "Begin Platt scaling.\n"
     ]
    },
    {
     "name": "stderr",
     "output_type": "stream",
     "text": [
      "100%|███████████████████████████████████████████████████████████████████████████████████| 2/2 [00:00<00:00, 499.35it/s]\n",
      "100%|███████████████████████████████████████████████████████████████████████████████████| 2/2 [00:00<00:00, 500.27it/s]\n"
     ]
    },
    {
     "name": "stdout",
     "output_type": "stream",
     "text": [
      "Computing logits for model (only happens once).\n",
      "Optimal T=1.2970714569091797\n",
      "Begin Platt scaling.\n",
      "Computing logits for model (only happens once).\n",
      "Optimal T=1.297222375869751\n",
      "Begin Platt scaling.\n"
     ]
    },
    {
     "name": "stderr",
     "output_type": "stream",
     "text": [
      "100%|███████████████████████████████████████████████████████████████████████████████████| 2/2 [00:00<00:00, 500.48it/s]\n",
      "100%|███████████████████████████████████████████████████████████████████████████████████| 2/2 [00:00<00:00, 503.82it/s]\n"
     ]
    },
    {
     "name": "stdout",
     "output_type": "stream",
     "text": [
      "Computing logits for model (only happens once).\n",
      "Optimal T=1.2973774671554565\n",
      "Begin Platt scaling.\n",
      "Computing logits for model (only happens once).\n",
      "Optimal T=1.2970860004425049\n",
      "Begin Platt scaling.\n",
      "Computing logits for model (only happens once).\n"
     ]
    },
    {
     "name": "stderr",
     "output_type": "stream",
     "text": [
      "100%|███████████████████████████████████████████████████████████████████████████████████| 2/2 [00:00<00:00, 495.87it/s]\n",
      "100%|███████████████████████████████████████████████████████████████████████████████████| 2/2 [00:00<00:00, 499.80it/s]\n"
     ]
    },
    {
     "name": "stdout",
     "output_type": "stream",
     "text": [
      "Optimal T=1.2973700761795044\n",
      "Begin Platt scaling.\n",
      "Computing logits for model (only happens once).\n",
      "Optimal T=1.2974274158477783\n",
      "Begin Platt scaling.\n",
      "Computing logits for model (only happens once).\n"
     ]
    },
    {
     "name": "stderr",
     "output_type": "stream",
     "text": [
      "100%|███████████████████████████████████████████████████████████████████████████████████| 2/2 [00:00<00:00, 496.31it/s]\n",
      "100%|███████████████████████████████████████████████████████████████████████████████████| 2/2 [00:00<00:00, 499.77it/s]\n"
     ]
    },
    {
     "name": "stdout",
     "output_type": "stream",
     "text": [
      "Optimal T=1.297433853149414\n",
      "Begin Platt scaling.\n",
      "Computing logits for model (only happens once).\n",
      "Optimal T=1.297358751296997\n",
      "Begin Platt scaling.\n"
     ]
    },
    {
     "name": "stderr",
     "output_type": "stream",
     "text": [
      "100%|███████████████████████████████████████████████████████████████████████████████████| 2/2 [00:00<00:00, 500.45it/s]\n",
      "100%|███████████████████████████████████████████████████████████████████████████████████| 2/2 [00:00<00:00, 500.19it/s]\n"
     ]
    },
    {
     "name": "stdout",
     "output_type": "stream",
     "text": [
      "Computing logits for model (only happens once).\n",
      "Optimal T=1.2974672317504883\n",
      "Begin Platt scaling.\n",
      "Computing logits for model (only happens once).\n",
      "Optimal T=1.2972524166107178\n",
      "Begin Platt scaling.\n"
     ]
    },
    {
     "name": "stderr",
     "output_type": "stream",
     "text": [
      "100%|███████████████████████████████████████████████████████████████████████████████████| 2/2 [00:00<00:00, 495.87it/s]\n",
      "100%|███████████████████████████████████████████████████████████████████████████████████| 2/2 [00:00<00:00, 500.07it/s]\n"
     ]
    },
    {
     "name": "stdout",
     "output_type": "stream",
     "text": [
      "Computing logits for model (only happens once).\n",
      "Optimal T=1.2976396083831787\n",
      "Begin Platt scaling.\n",
      "Computing logits for model (only happens once).\n",
      "Optimal T=1.2969632148742676\n",
      "Begin Platt scaling.\n"
     ]
    },
    {
     "name": "stderr",
     "output_type": "stream",
     "text": [
      "100%|███████████████████████████████████████████████████████████████████████████████████| 2/2 [00:00<00:00, 400.28it/s]\n",
      "100%|███████████████████████████████████████████████████████████████████████████████████| 2/2 [00:00<00:00, 659.74it/s]\n"
     ]
    },
    {
     "name": "stdout",
     "output_type": "stream",
     "text": [
      "Computing logits for model (only happens once).\n",
      "Optimal T=1.2970777750015259\n",
      "Begin Platt scaling.\n",
      "Computing logits for model (only happens once).\n",
      "Optimal T=1.2978150844573975\n",
      "Begin Platt scaling.\n"
     ]
    },
    {
     "name": "stderr",
     "output_type": "stream",
     "text": [
      "100%|███████████████████████████████████████████████████████████████████████████████████| 2/2 [00:00<00:00, 496.28it/s]"
     ]
    },
    {
     "name": "stdout",
     "output_type": "stream",
     "text": [
      "Computing logits for model (only happens once).\n",
      "Optimal T=1.2975313663482666\n"
     ]
    },
    {
     "name": "stderr",
     "output_type": "stream",
     "text": [
      "\n"
     ]
    }
   ],
   "source": [
    "#RAPS\n",
    "\n",
    "from third_party.RAPS.RAPS_conformal import *\n",
    "\n",
    "model = NeuralNetwork(input_size = N_FEATURES, num_neurons = NUM_NEURONS, out_size = N_CLASSES,\n",
    "                      seed = SEED, l2_reg = REG).to(device)\n",
    "Xtrain_prop, Xval, Ytrain_prop, Yval = train_test_split(Xtrain, Ytrain, test_size = 0.2, random_state = SEED)\n",
    "model.fit(Xtrain_prop, Ytrain_prop, seed = SEED) #training on proper training set\n",
    "calib_loader = torch.utils.data.DataLoader(create_set(Xval, Yval), batch_size=128, shuffle=True, pin_memory=True) #calib data\n",
    "sizes = {}\n",
    "for i, epsilon in enumerate(epsilons): #repeat for each epsilon\n",
    "    cmodel = ConformalModel(model, calib_loader, alpha=epsilon, lamda_criterion='size', allow_zero_sets=True) #building RAPS\n",
    "    \n",
    "    for j in range(len(Ytest)):\n",
    "        _, set = cmodel(check_tensor(np.expand_dims(Xtest[j], axis=0)).to(device)) #constructing prediction sets\n",
    "        \n",
    "        if epsilon not in sizes:\n",
    "            sizes[epsilon] = [len(list(set[0]))]\n",
    "        else:\n",
    "            sizes[epsilon].append(len(list(set[0])))\n",
    "    \n",
    "curve_all_RAPS = [np.mean(sizes[epsilon]) for epsilon in sizes] #average prediction set size w.r.t epsilon\n",
    "AUC_all_RAPS = round(simps(curve_all_RAPS[:21], epsilons[:21]),3) #AUC"
   ]
  },
  {
   "cell_type": "code",
   "execution_count": 17,
   "metadata": {
    "scrolled": true
   },
   "outputs": [
    {
     "name": "stdout",
     "output_type": "stream",
     "text": [
      "Epoch: 1 - Validation Loss: 2.6536\n",
      "Epoch: 10 - Validation Loss: 2.1385\n",
      "Epoch: 20 - Validation Loss: 1.8121\n",
      "Epoch: 30 - Validation Loss: 1.5520\n",
      "Epoch: 40 - Validation Loss: 1.3452\n",
      "Epoch: 50 - Validation Loss: 1.2091\n",
      "Epoch: 60 - Validation Loss: 1.1107\n",
      "Epoch: 70 - Validation Loss: 1.0387\n",
      "Epoch: 80 - Validation Loss: 0.9799\n",
      "Epoch: 90 - Validation Loss: 0.9319\n",
      "Epoch: 100 - Validation Loss: 0.8971\n",
      "Epoch: 110 - Validation Loss: 0.8652\n",
      "Epoch: 120 - Validation Loss: 0.8370\n",
      "Epoch: 130 - Validation Loss: 0.8129\n",
      "Epoch: 140 - Validation Loss: 0.7937\n",
      "Epoch: 150 - Validation Loss: 0.7780\n",
      "Epoch: 160 - Validation Loss: 0.7667\n",
      "Epoch: 170 - Validation Loss: 0.7538\n",
      "Epoch: 180 - Validation Loss: 0.7406\n",
      "Epoch: 190 - Validation Loss: 0.7343\n",
      "Epoch: 200 - Validation Loss: 0.7248\n",
      "Epoch: 1 - Validation Loss: 2.7521\n",
      "Epoch: 10 - Validation Loss: 2.2219\n",
      "Epoch: 20 - Validation Loss: 1.9052\n",
      "Epoch: 30 - Validation Loss: 1.6522\n",
      "Epoch: 40 - Validation Loss: 1.4761\n",
      "Epoch: 50 - Validation Loss: 1.3527\n",
      "Epoch: 60 - Validation Loss: 1.2608\n",
      "Epoch: 70 - Validation Loss: 1.1868\n",
      "Epoch: 80 - Validation Loss: 1.1369\n",
      "Epoch: 90 - Validation Loss: 1.0979\n",
      "Epoch: 100 - Validation Loss: 1.0623\n",
      "Epoch: 110 - Validation Loss: 1.0264\n",
      "Epoch: 120 - Validation Loss: 1.0041\n",
      "Epoch: 130 - Validation Loss: 0.9866\n",
      "Epoch: 140 - Validation Loss: 0.9706\n",
      "Epoch: 150 - Validation Loss: 0.9534\n",
      "Epoch: 160 - Validation Loss: 0.9415\n",
      "Epoch: 170 - Validation Loss: 0.9306\n",
      "Epoch: 180 - Validation Loss: 0.9200\n",
      "Epoch: 190 - Validation Loss: 0.9119\n",
      "Epoch: 200 - Validation Loss: 0.9071\n",
      "Epoch: 1 - Validation Loss: 2.6566\n",
      "Epoch: 10 - Validation Loss: 2.1024\n",
      "Epoch: 20 - Validation Loss: 1.7526\n",
      "Epoch: 30 - Validation Loss: 1.5023\n",
      "Epoch: 40 - Validation Loss: 1.3174\n",
      "Epoch: 50 - Validation Loss: 1.1873\n",
      "Epoch: 60 - Validation Loss: 1.0996\n",
      "Epoch: 70 - Validation Loss: 1.0269\n",
      "Epoch: 80 - Validation Loss: 0.9723\n",
      "Epoch: 90 - Validation Loss: 0.9179\n",
      "Epoch: 100 - Validation Loss: 0.8808\n",
      "Epoch: 110 - Validation Loss: 0.8504\n",
      "Epoch: 120 - Validation Loss: 0.8228\n",
      "Epoch: 130 - Validation Loss: 0.8053\n",
      "Epoch: 140 - Validation Loss: 0.7831\n",
      "Epoch: 150 - Validation Loss: 0.7679\n",
      "Epoch: 160 - Validation Loss: 0.7554\n",
      "Epoch: 170 - Validation Loss: 0.7438\n",
      "Epoch: 180 - Validation Loss: 0.7340\n",
      "Epoch: 190 - Validation Loss: 0.7236\n",
      "Epoch: 200 - Validation Loss: 0.7177\n",
      "Epoch: 1 - Validation Loss: 2.6290\n",
      "Epoch: 10 - Validation Loss: 2.1391\n",
      "Epoch: 20 - Validation Loss: 1.8554\n",
      "Epoch: 30 - Validation Loss: 1.6341\n",
      "Epoch: 40 - Validation Loss: 1.4572\n",
      "Epoch: 50 - Validation Loss: 1.3354\n",
      "Epoch: 60 - Validation Loss: 1.2387\n",
      "Epoch: 70 - Validation Loss: 1.1687\n",
      "Epoch: 80 - Validation Loss: 1.1095\n",
      "Epoch: 90 - Validation Loss: 1.0640\n",
      "Epoch: 100 - Validation Loss: 1.0335\n",
      "Epoch: 110 - Validation Loss: 1.0056\n",
      "Epoch: 120 - Validation Loss: 0.9809\n",
      "Epoch: 130 - Validation Loss: 0.9633\n",
      "Epoch: 140 - Validation Loss: 0.9398\n",
      "Epoch: 150 - Validation Loss: 0.9254\n",
      "Epoch: 160 - Validation Loss: 0.9154\n",
      "Epoch: 170 - Validation Loss: 0.9065\n",
      "Epoch: 180 - Validation Loss: 0.8963\n",
      "Epoch: 190 - Validation Loss: 0.8842\n",
      "Epoch: 200 - Validation Loss: 0.8781\n",
      "Epoch: 1 - Validation Loss: 2.7490\n",
      "Epoch: 10 - Validation Loss: 2.2365\n",
      "Epoch: 20 - Validation Loss: 1.8713\n",
      "Epoch: 30 - Validation Loss: 1.6136\n",
      "Epoch: 40 - Validation Loss: 1.4251\n",
      "Epoch: 50 - Validation Loss: 1.2818\n",
      "Epoch: 60 - Validation Loss: 1.1840\n",
      "Epoch: 70 - Validation Loss: 1.1070\n",
      "Epoch: 80 - Validation Loss: 1.0549\n",
      "Epoch: 90 - Validation Loss: 1.0099\n",
      "Epoch: 100 - Validation Loss: 0.9714\n",
      "Epoch: 110 - Validation Loss: 0.9430\n",
      "Epoch: 120 - Validation Loss: 0.9166\n",
      "Epoch: 130 - Validation Loss: 0.9025\n",
      "Epoch: 140 - Validation Loss: 0.8779\n",
      "Epoch: 150 - Validation Loss: 0.8636\n",
      "Epoch: 160 - Validation Loss: 0.8464\n",
      "Epoch: 170 - Validation Loss: 0.8414\n",
      "Epoch: 180 - Validation Loss: 0.8249\n",
      "Epoch: 190 - Validation Loss: 0.8176\n",
      "Epoch: 200 - Validation Loss: 0.8063\n"
     ]
    }
   ],
   "source": [
    "#CV+\n",
    "\n",
    "from third_party.ARC.arc import models, methods, black_boxes, coverage\n",
    "\n",
    "model = NeuralNetwork(input_size = N_FEATURES, num_neurons = NUM_NEURONS, out_size = N_CLASSES,\n",
    "                      seed = SEED, l2_reg = REG).to(device)\n",
    "method_cv = methods.CVPlus(Xtrain, Ytrain, model, n_folds=5, seed = SEED, verbose = False) #building CV+\n",
    "sizes = {}\n",
    "\n",
    "for i, epsilon in enumerate(epsilons): #repeat for each epsilon\n",
    "        for j in range(len(Ytest)):\n",
    "            set = method_cv.predict(check_tensor(np.expand_dims(Xtest[j], axis=0)).to(device), alpha = epsilon) #constructing prediction sets\n",
    "        \n",
    "            if epsilon not in sizes:\n",
    "                sizes[epsilon] = [len(list(set[0]))]\n",
    "            else:\n",
    "                sizes[epsilon].append(len(list(set[0])))\n",
    "            \n",
    "curve_all_CV_plus = [np.mean(sizes[epsilon]) for epsilon in sizes] #average prediction set size w.r.t epsilon\n",
    "AUC_all_CV_plus = round(simps(curve_all_CV_plus[:21], epsilons[:21]),3) #AUC"
   ]
  },
  {
   "cell_type": "markdown",
   "metadata": {},
   "source": [
    "We measure the efficiency with the  AUC in the interval $\\varepsilon \\in [0,0.2]$ (the lower the AUC; the higher the efficiency). ACP is consistently better than existing alternatives in terms of statistical power: it attains the desired error rate with tighter prediction sets. "
   ]
  },
  {
   "cell_type": "code",
   "execution_count": 18,
   "metadata": {},
   "outputs": [
    {
     "data": {
      "image/png": "[encoded data removed]",
      "text/plain": [
       "<Figure size 720x432 with 1 Axes>"
      ]
     },
     "metadata": {
      "needs_background": "light"
     },
     "output_type": "display_data"
    }
   ],
   "source": [
    "import matplotlib.patches as patches\n",
    "fig, ax = plt.subplots(figsize=(10, 6))\n",
    "\n",
    "plt.plot(epsilons, curve_all, label =\"ACP (D) (AUC = {})\".format(AUC_all), linewidth = 3)\n",
    "plt.plot(epsilons, curve_all_split_cp, label =\"SCP (AUC = {})\".format(AUC_all_split_cp), linewidth = 3, color=\"green\")\n",
    "plt.plot(epsilons, curve_all_RAPS, label =\"RAPS (AUC = {})\".format(AUC_all_RAPS), linewidth = 3, color = \"red\")\n",
    "plt.plot(epsilons, curve_all_CV_plus, label =\"CV+ (AUC = {})\".format(AUC_all_CV_plus), linewidth = 3, color = \"m\")\n",
    "\n",
    "rect = patches.Rectangle((0.001,0), 0.2, N_CLASSES - 0.01, ls=\"--\", linewidth=3, edgecolor='black', facecolor='none', zorder = 5)\n",
    "ax.add_patch(rect)\n",
    "\n",
    "plt.legend(fontsize = \"24\", shadow = True, facecolor='white', framealpha=1)\n",
    "plt.xscale(\"linear\")\n",
    "plt.xlim([-0.0001, 1.0])\n",
    "plt.ylim([-0.01, N_CLASSES])\n",
    "plt.xticks(fontsize = \"28\")\n",
    "plt.yticks(np.arange(N_CLASSES+1).tolist(), fontsize = \"28\")\n",
    "plt.ylabel(\"Prediction set size\", fontsize = \"36\")\n",
    "plt.xlabel(r\"$\\epsilon$\", fontsize = \"30\")\n",
    "\n",
    "plt.grid()\n",
    "plt.tight_layout()"
   ]
  },
  {
   "cell_type": "code",
   "execution_count": 19,
   "metadata": {},
   "outputs": [
    {
     "data": {
      "image/png": "[encoded data removed]",
      "text/plain": [
       "<Figure size 720x432 with 1 Axes>"
      ]
     },
     "metadata": {
      "needs_background": "light"
     },
     "output_type": "display_data"
    }
   ],
   "source": [
    "plt.figure(figsize=(10, 6))\n",
    "\n",
    "plt.plot(epsilons[:21], curve_all[:21], label =\"ACP (D) (AUC = {})\".format(AUC_all), linewidth = 3)\n",
    "plt.plot(epsilons[:21], curve_all_split_cp[:21], label =\"SCP (AUC = {})\".format(AUC_all_split_cp), linewidth = 3, color=\"green\")\n",
    "plt.plot(epsilons[:21], curve_all_RAPS[:21], label =\"RAPS (AUC = {})\".format(AUC_all_RAPS), linewidth = 3, color = \"red\")\n",
    "plt.plot(epsilons[:21], curve_all_CV_plus[:21], label =\"CV+ (AUC = {})\".format(AUC_all_CV_plus), linewidth = 3, color = \"m\")\n",
    "\n",
    "plt.legend(fontsize = \"24\", shadow = True, facecolor='white', framealpha=1)\n",
    "plt.xscale(\"linear\")\n",
    "plt.xlim([-0.0001, 0.2])\n",
    "plt.ylim([-0.01, N_CLASSES])\n",
    "plt.xticks([0, 0.05, 0.1, 0.15, 0.2], fontsize = \"28\")\n",
    "plt.yticks(np.arange(N_CLASSES+1).tolist(), fontsize = \"28\")\n",
    "plt.ylabel(\"Prediction set size\", fontsize = \"36\")\n",
    "plt.xlabel(r\"$\\epsilon$\", fontsize = \"30\")\n",
    "\n",
    "plt.grid()\n",
    "plt.tight_layout()"
   ]
  }
 ],
 "metadata": {
  "kernelspec": {
   "display_name": "Python 3",
   "language": "python",
   "name": "python3"
  },
  "language_info": {
   "codemirror_mode": {
    "name": "ipython",
    "version": 3
   },
   "file_extension": ".py",
   "mimetype": "text/x-python",
   "name": "python",
   "nbconvert_exporter": "python",
   "pygments_lexer": "ipython3",
   "version": "3.7.6"
  }
 },
 "nbformat": 4,
 "nbformat_minor": 5
}
