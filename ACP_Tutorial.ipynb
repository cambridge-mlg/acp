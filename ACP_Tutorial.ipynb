{
 "cells": [
  {
   "cell_type": "markdown",
   "metadata": {},
   "source": [
    " $\\Large \\textbf{CONSTRUCTING PREDICTION SETS WITH ACP}$"
   ]
  },
  {
   "cell_type": "markdown",
   "metadata": {},
   "source": [
    "This notebook provides an introductory tutorial on Approximate full Conformal Prediction (ACP). The full details can be found in the accompanying paper:\n",
    "\n",
    "Javier Abad, Umang Bhatt, Adrian Weller and Giovanni Cherubin. “Approximating Full Conformal Prediction at Scale via Influence Functions.” 2022."
   ]
  },
  {
   "cell_type": "markdown",
   "metadata": {},
   "source": [
    "$\\textbf{CONSTRUCTING VALID PREDICTION SETS}$"
   ]
  },
  {
   "cell_type": "markdown",
   "metadata": {},
   "source": [
    "Consider a training set $Z=(X, Y) \\in(\\mathcal{X} \\times \\mathcal{Y})^{N}$ of $N$ examples. For a test example $x \\in \\mathcal{X}$ and a chosen significance level $\\varepsilon \\in[0,1]$ a Conformal Predictor (CP) returns a set $\\Gamma^{e} \\subseteq \\mathcal{Y}$ that contains $x$’s true label with probability at least $1-\\varepsilon$. This guarantee (validity) holds for any exchangeable distribution on $Z \\cup\\{(x, y)\\}$.\n",
    "\n",
    "Particularly, full CP is a statistically powerful CP algorithm that attains the validity guarantees while also yielding tight prediction sets (i.e., high efficiency). Unfortunately,  full CP is notoriously computationally expensive. \n",
    "\n",
    "ACP consistently approximates full CP by leveraging Influence Functions (IF). Given a sufficiently large training set, ACP inherits the statistical power of full CP. This enables running full CP at a much reduced computational cost, and allows scaling it to large, real-world datasets. "
   ]
  },
  {
   "cell_type": "markdown",
   "metadata": {},
   "source": [
    "$\\textbf{IMPORTING THE PACKAGES}$"
   ]
  },
  {
   "cell_type": "code",
   "execution_count": 1,
   "metadata": {},
   "outputs": [
    {
     "name": "stdout",
     "output_type": "stream",
     "text": [
      "Using cuda device\n"
     ]
    }
   ],
   "source": [
    "from wrapper import *\n",
    "from utils import *\n",
    "\n",
    "SEED = 42 #for reproducibility\n",
    "np.random.seed(SEED)\n",
    "torch.manual_seed(SEED)\n",
    "torch.cuda.manual_seed(SEED)\n",
    "random.seed(SEED)"
   ]
  },
  {
   "cell_type": "markdown",
   "metadata": {},
   "source": [
    "$\\textbf{DATA}$"
   ]
  },
  {
   "cell_type": "markdown",
   "metadata": {},
   "source": [
    "We generate synthetic data for a 5-class classification problem using scikit-learn’s $\\texttt{make_classification}() $. We sample points from five Gaussian-distributed clusters, one per class. Each object is defined by 10 features. This is a concrete toy example, but feel free to play around with different synthetic settings!"
   ]
  },
  {
   "cell_type": "code",
   "execution_count": 2,
   "metadata": {},
   "outputs": [],
   "source": [
    "TRAIN_SIZE = 1000 #number of training points\n",
    "TEST_SIZE = 10 #number of test points\n",
    "N_CLASSES = 5 #number of classes\n",
    "N_FEATURES = 10 #total number of features \n",
    "N_CLUSTERS = 1 #number of clusters per class\n",
    "N_INFORMATIVE = 3 #number of informative features\n",
    "N_REDUNDANT = 2 #number of redundant features\n",
    "\n",
    "X, Y = make_classification(n_samples = TRAIN_SIZE + TEST_SIZE, n_features = N_FEATURES, n_classes = N_CLASSES,\n",
    "                           n_clusters_per_class = N_CLUSTERS, n_informative = N_INFORMATIVE, random_state = SEED)\n",
    "\n",
    "Xtrain, Xtest, Ytrain, Ytest = train_test_split(X, Y, test_size = TEST_SIZE, random_state = SEED)"
   ]
  },
  {
   "cell_type": "markdown",
   "metadata": {},
   "source": [
    "$\\textbf{FITTING A MODEL}$"
   ]
  },
  {
   "cell_type": "markdown",
   "metadata": {},
   "source": [
    "It’s time to decide the underlying model on top of which we build ACP. Here we use a 2-layers neural network; however, you can plug in any model as long as it is differentiable."
   ]
  },
  {
   "cell_type": "code",
   "execution_count": 3,
   "metadata": {},
   "outputs": [],
   "source": [
    "#Instantiate model\n",
    "\n",
    "NUM_NEURONS = [20,10] #layers and neurons for the NN classifier\n",
    "REG = 0.01\n",
    "model = NeuralNetwork(input_size = N_FEATURES, num_neurons = NUM_NEURONS, out_size = N_CLASSES, seed = SEED, l2_reg = REG)"
   ]
  },
  {
   "cell_type": "markdown",
   "metadata": {},
   "source": [
    "$\\textbf{BUILDING ACP AND GENERATING PREDICTION SETS}$"
   ]
  },
  {
   "cell_type": "markdown",
   "metadata": {},
   "source": [
    "ACP works as a wrapper for an ML model. We now instantiate ACP and generate prediction sets for a chosen significance level $\\varepsilon$. These prediction sets are guaranteed to contain the true class label with confidence at least $1 – \\varepsilon$."
   ]
  },
  {
   "cell_type": "code",
   "execution_count": 4,
   "metadata": {},
   "outputs": [
    {
     "name": "stdout",
     "output_type": "stream",
     "text": [
      "Training model on 1000 samples\n",
      "Epoch: 1 - Validation Loss: 2.6290\n",
      "Epoch: 10 - Validation Loss: 2.0676\n",
      "Epoch: 20 - Validation Loss: 1.7236\n",
      "Epoch: 30 - Validation Loss: 1.4719\n",
      "Epoch: 40 - Validation Loss: 1.3131\n",
      "Epoch: 50 - Validation Loss: 1.2087\n",
      "Epoch: 60 - Validation Loss: 1.1295\n",
      "Epoch: 70 - Validation Loss: 1.0662\n",
      "Epoch: 80 - Validation Loss: 1.0187\n",
      "Epoch: 90 - Validation Loss: 0.9798\n",
      "Epoch: 100 - Validation Loss: 0.9498\n",
      "Epoch: 110 - Validation Loss: 0.9248\n",
      "Epoch: 120 - Validation Loss: 0.9041\n",
      "Epoch: 130 - Validation Loss: 0.8853\n",
      "Epoch: 140 - Validation Loss: 0.8728\n",
      "Epoch: 150 - Validation Loss: 0.8595\n",
      "Epoch: 160 - Validation Loss: 0.8501\n",
      "Epoch: 170 - Validation Loss: 0.8418\n",
      "Epoch: 180 - Validation Loss: 0.8322\n",
      "Epoch: 190 - Validation Loss: 0.8271\n",
      "Epoch: 200 - Validation Loss: 0.8186\n",
      "Computing gradients and Hessian inverse\n",
      "Computing scores for 1000 samples\n",
      "Conformal predictor is ready!\n"
     ]
    }
   ],
   "source": [
    "#Building ACP (deleted)\n",
    "ACP = ACP_D(Xtrain, Ytrain, model, seed = SEED, verbose = True)"
   ]
  },
  {
   "cell_type": "code",
   "execution_count": 5,
   "metadata": {},
   "outputs": [
    {
     "name": "stderr",
     "output_type": "stream",
     "text": [
      "\r",
      "  0%|                                                                                           | 0/10 [00:00<?, ?it/s]"
     ]
    },
    {
     "name": "stdout",
     "output_type": "stream",
     "text": [
      "Computing p-values for 10 samples\n"
     ]
    },
    {
     "name": "stderr",
     "output_type": "stream",
     "text": [
      "100%|██████████████████████████████████████████████████████████████████████████████████| 10/10 [00:15<00:00,  1.55s/it]\n"
     ]
    }
   ],
   "source": [
    "#Generate prediction sets that are guaranteed to contain the true class label with at least a specified probability 1-epsilon\n",
    "eps = 0.1 # 1-0.1 = 0.9 confidence of including the true label\n",
    "sets = ACP.predict(Xtest, eps, out_file = \"results/test\")"
   ]
  },
  {
   "cell_type": "markdown",
   "metadata": {},
   "source": [
    "Let us now look at the generated prediction sets. They are guaranteed to contain the true label with the specified probability $1-\\varepsilon$. "
   ]
  },
  {
   "cell_type": "code",
   "execution_count": 6,
   "metadata": {},
   "outputs": [
    {
     "name": "stdout",
     "output_type": "stream",
     "text": [
      "Prediction sets: [[0, 1], [3], [1], [4], [2], [0, 2], [3, 4], [2], [2], [1]]\n",
      "\n",
      "True labels: [2 3 1 4 2 2 4 2 2 1]\n"
     ]
    }
   ],
   "source": [
    "print(\"Prediction sets: \" + str(list(sets.values()))) #prediction sets\n",
    "print()\n",
    "print(\"True labels: \" + str(Ytest)) #true labels"
   ]
  },
  {
   "cell_type": "markdown",
   "metadata": {},
   "source": [
    "$\\textbf{VALIDITY AND EFFICIENCY OF ACP}$"
   ]
  },
  {
   "cell_type": "markdown",
   "metadata": {},
   "source": [
    "ACP inherits the statistical power of full CP, constructing prediction sets that attain both validity guarantees and high statistical power (i.e., efficiency).\n",
    "\n",
    "We obtain the accuracy of ACP, that is, the rate at which the true label is included in the prediction set. For $\\varepsilon=0.1$, ACP achieves an accuracy of $90\\%$."
   ]
  },
  {
   "cell_type": "code",
   "execution_count": 7,
   "metadata": {},
   "outputs": [
    {
     "name": "stdout",
     "output_type": "stream",
     "text": [
      "ACP's accuracy: 90.0%\n"
     ]
    }
   ],
   "source": [
    "result = pd.read_json(\"results/test\", lines = True) #loading ACP p-values\n",
    "accum_acc = compute_accum_acc(eps, result, Ytest) #computing accuracy for chosen epsilon \n",
    "\n",
    "print(\"ACP's accuracy: {}%\".format(accum_acc[-1]/len(Ytest)*100))"
   ]
  },
  {
   "cell_type": "markdown",
   "metadata": {},
   "source": [
    "Naturally, ACP with $\\varepsilon = 0.1$ is more accurate than just predicting the outcomes based on the raw model's outputs:"
   ]
  },
  {
   "cell_type": "code",
   "execution_count": 8,
   "metadata": {},
   "outputs": [
    {
     "name": "stdout",
     "output_type": "stream",
     "text": [
      "Model's accuracy: 80.0%\n"
     ]
    }
   ],
   "source": [
    "from sklearn.metrics import accuracy_score\n",
    "\n",
    "print(\"Model's accuracy: {}%\".format(accuracy_score(model.predict(Xtest), Ytest)*100))"
   ]
  },
  {
   "cell_type": "markdown",
   "metadata": {},
   "source": [
    "We now consider a single test point chosen uniformly at random. We can plot how the prediction set size changes w.r.t $\\varepsilon$ for ACP. We include the AUC for the interval $\\varepsilon \\in [0,0.2]$ and use it as a proxy of the efficiency (the lower the AUC, the higher the efficiency). This interval captures settings that are generally of practical interest. \n",
    "\n",
    "Additionally, we report with $\\color{lightcoral}\\bigstar$ the highest $\\varepsilon$ for which the prediction set contains the true label.  A higher value indicates that, for this test example, the method would still be accurate with larger $\\varepsilon$, which would correspond to tighter prediction sets. "
   ]
  },
  {
   "cell_type": "code",
   "execution_count": 9,
   "metadata": {},
   "outputs": [],
   "source": [
    "cand = random.randint(0, len(Ytest)-1) #Randomly picking an example from the test set\n",
    "epsilons = np.arange(0,1.01,0.01) #Discretized x axis (epsilons)\n",
    "\n",
    "curve = get_average_interval(result, cand, epsilons) #Computing prediction set size w.r.t epsilon\n",
    "min_eps = find_min_epsilon(result, Ytest, cand, epsilons) #minimum epsilon that contains true label\n",
    "AUC = round(simps(curve[:21], epsilons[:21]),3) #AUC for the interval [0, 0.2]"
   ]
  },
  {
   "cell_type": "code",
   "execution_count": 10,
   "metadata": {},
   "outputs": [
    {
     "data": {
      "image/png": "[encoded data removed]",
      "text/plain": [
       "<Figure size 720x432 with 1 Axes>"
      ]
     },
     "metadata": {
      "needs_background": "light"
     },
     "output_type": "display_data"
    }
   ],
   "source": [
    "plt.style.use('seaborn-paper')\n",
    "plt.rcParams['font.family'] = 'Times New Roman'\n",
    "plt.figure(figsize=(10, 6))\n",
    "\n",
    "plt.plot(epsilons, curve, label =\"ACP (D) (AUC = {})\".format(AUC), linewidth = 3)\n",
    "plt.scatter(min_eps, curve[np.where(epsilons == min_eps)[0][0]], s=550, marker=(5, 1), color = \"lightcoral\", zorder = 3)\n",
    "\n",
    "plt.legend(fontsize = \"24\", shadow = True, facecolor='white', framealpha=1)\n",
    "plt.xscale(\"linear\")\n",
    "plt.xlim([-0.0001, np.round(min_eps,1) + 0.1])\n",
    "plt.ylim([-0.01, N_CLASSES])\n",
    "plt.xticks(np.arange(0, np.round(min_eps,1) + 0.2, 0.1), fontsize = \"28\")\n",
    "plt.yticks(np.arange(N_CLASSES+1).tolist(), fontsize = \"28\")\n",
    "plt.ylabel(\"Prediction set size\", fontsize = \"36\")\n",
    "plt.xlabel(r\"$\\epsilon$\", fontsize = \"30\")\n",
    "plt.axvline(x=eps, color = \"black\", linewidth = 2, linestyle = \"--\")\n",
    "\n",
    "plt.grid()\n",
    "plt.tight_layout()"
   ]
  },
  {
   "cell_type": "markdown",
   "metadata": {},
   "source": [
    "We can measure the efficiency on the whole test set by averaging across points. Again, we report the AUC in $\\varepsilon \\in [0,0.2]$."
   ]
  },
  {
   "cell_type": "code",
   "execution_count": 11,
   "metadata": {},
   "outputs": [],
   "source": [
    "curve_all = epsilon_curves(result, epsilons) #average prediction set size w.r.t epsilon\n",
    "AUC_all = round(simps(curve_all[:21], epsilons[:21]),3) #AUC"
   ]
  },
  {
   "cell_type": "code",
   "execution_count": 12,
   "metadata": {},
   "outputs": [
    {
     "data": {
      "image/png": "[encoded data removed]",
      "text/plain": [
       "<Figure size 720x432 with 1 Axes>"
      ]
     },
     "metadata": {
      "needs_background": "light"
     },
     "output_type": "display_data"
    }
   ],
   "source": [
    "plt.figure(figsize=(10, 6))\n",
    "plt.plot(epsilons, curve_all, label =\"ACP (D) (AUC = {})\".format(AUC_all), linewidth = 3)\n",
    "plt.legend(fontsize = \"24\", shadow = True, facecolor='white', framealpha=1)\n",
    "plt.xscale(\"linear\")\n",
    "plt.xlim([-0.0001, 1.0])\n",
    "plt.ylim([-0.01, N_CLASSES])\n",
    "plt.xticks(fontsize = \"28\")\n",
    "plt.yticks(np.arange(N_CLASSES+1).tolist(), fontsize = \"28\")\n",
    "plt.ylabel(\"Prediction set size\", fontsize = \"36\")\n",
    "plt.xlabel(r\"$\\epsilon$\", fontsize = \"30\")\n",
    "\n",
    "plt.grid()\n",
    "plt.tight_layout()"
   ]
  },
  {
   "cell_type": "markdown",
   "metadata": {},
   "source": [
    "$\\textbf{EFFICIENCY COMPARISON}$"
   ]
  },
  {
   "cell_type": "markdown",
   "metadata": {},
   "source": [
    "We now consider main-stream CP alternatives, and compare them empirically with ACP on the basis of their predictive power (efficiency). We study split CP (SCP), RAPS and CV+. We keep the same underlying classifier."
   ]
  },
  {
   "cell_type": "code",
   "execution_count": 13,
   "metadata": {
    "scrolled": true
   },
   "outputs": [
    {
     "name": "stdout",
     "output_type": "stream",
     "text": [
      "Epoch: 1 - Validation Loss: 2.5644\n",
      "Epoch: 10 - Validation Loss: 2.1006\n",
      "Epoch: 20 - Validation Loss: 1.7861\n",
      "Epoch: 30 - Validation Loss: 1.5363\n",
      "Epoch: 40 - Validation Loss: 1.3615\n",
      "Epoch: 50 - Validation Loss: 1.2511\n",
      "Epoch: 60 - Validation Loss: 1.1730\n",
      "Epoch: 70 - Validation Loss: 1.1197\n",
      "Epoch: 80 - Validation Loss: 1.0747\n",
      "Epoch: 90 - Validation Loss: 1.0416\n",
      "Epoch: 100 - Validation Loss: 1.0042\n",
      "Epoch: 110 - Validation Loss: 0.9823\n",
      "Epoch: 120 - Validation Loss: 0.9580\n",
      "Epoch: 130 - Validation Loss: 0.9325\n",
      "Epoch: 140 - Validation Loss: 0.9197\n",
      "Epoch: 150 - Validation Loss: 0.9057\n",
      "Epoch: 160 - Validation Loss: 0.8940\n",
      "Epoch: 170 - Validation Loss: 0.8828\n",
      "Epoch: 180 - Validation Loss: 0.8771\n",
      "Epoch: 190 - Validation Loss: 0.8588\n"
     ]
    }
   ],
   "source": [
    "#SCP\n",
    "\n",
    "from others import split_cp\n",
    "\n",
    "model = NeuralNetwork(input_size = N_FEATURES, num_neurons = NUM_NEURONS, out_size = N_CLASSES, \n",
    "                      seed = SEED, l2_reg = REG).to(device)\n",
    "_, _ = split_cp(model, Xtrain, Ytrain, Xtest, labels=np.unique(Ytrain).tolist(), out_file = \"results/test_split_cp\", \n",
    "                validation_split = 0.2)\n",
    "\n",
    "result_split_cp = pd.read_json(\"results/test_split_cp\", lines = True) #load p-values\n",
    "curve_all_split_cp = epsilon_curves(result_split_cp, epsilons) #average prediction set size w.r.t epsilon\n",
    "AUC_all_split_cp = round(simps(curve_all_split_cp[:21], epsilons[:21]),3) #AUC"
   ]
  },
  {
   "cell_type": "code",
   "execution_count": 14,
   "metadata": {
    "scrolled": true
   },
   "outputs": [
    {
     "name": "stdout",
     "output_type": "stream",
     "text": [
      "Epoch: 1 - Validation Loss: 2.5644\n",
      "Epoch: 10 - Validation Loss: 2.1006\n",
      "Epoch: 20 - Validation Loss: 1.7861\n",
      "Epoch: 30 - Validation Loss: 1.5363\n",
      "Epoch: 40 - Validation Loss: 1.3615\n",
      "Epoch: 50 - Validation Loss: 1.2511\n",
      "Epoch: 60 - Validation Loss: 1.1730\n",
      "Epoch: 70 - Validation Loss: 1.1197\n",
      "Epoch: 80 - Validation Loss: 1.0747\n",
      "Epoch: 90 - Validation Loss: 1.0416\n",
      "Epoch: 100 - Validation Loss: 1.0042\n",
      "Epoch: 110 - Validation Loss: 0.9823\n",
      "Epoch: 120 - Validation Loss: 0.9580\n",
      "Epoch: 130 - Validation Loss: 0.9325\n",
      "Epoch: 140 - Validation Loss: 0.9197\n",
      "Epoch: 150 - Validation Loss: 0.9057\n",
      "Epoch: 160 - Validation Loss: 0.8940\n",
      "Epoch: 170 - Validation Loss: 0.8828\n",
      "Epoch: 180 - Validation Loss: 0.8771\n"
     ]
    },
    {
     "name": "stderr",
     "output_type": "stream",
     "text": [
      "100%|███████████████████████████████████████████████████████████████████████████████████| 2/2 [00:00<00:00, 110.06it/s]"
     ]
    },
    {
     "name": "stdout",
     "output_type": "stream",
     "text": [
      "Epoch: 190 - Validation Loss: 0.8588\n",
      "Begin Platt scaling.\n",
      "Computing logits for model (only happens once).\n"
     ]
    },
    {
     "name": "stderr",
     "output_type": "stream",
     "text": [
      "\n",
      "100%|███████████████████████████████████████████████████████████████████████████████████| 2/2 [00:00<00:00, 666.45it/s]\n"
     ]
    },
    {
     "name": "stdout",
     "output_type": "stream",
     "text": [
      "Optimal T=1.2971956729888916\n",
      "Begin Platt scaling.\n",
      "Computing logits for model (only happens once).\n",
      "Optimal T=1.297276258468628\n"
     ]
    },
    {
     "name": "stderr",
     "output_type": "stream",
     "text": [
      "100%|███████████████████████████████████████████████████████████████████████████████████| 2/2 [00:00<00:00, 250.04it/s]"
     ]
    },
    {
     "name": "stdout",
     "output_type": "stream",
     "text": [
      "Begin Platt scaling.\n",
      "Computing logits for model (only happens once).\n",
      "Optimal T=1.2971363067626953\n"
     ]
    },
    {
     "name": "stderr",
     "output_type": "stream",
     "text": [
      "\n",
      "100%|███████████████████████████████████████████████████████████████████████████████████| 2/2 [00:00<00:00, 399.78it/s]\n",
      "100%|███████████████████████████████████████████████████████████████████████████████████| 2/2 [00:00<00:00, 499.59it/s]"
     ]
    },
    {
     "name": "stdout",
     "output_type": "stream",
     "text": [
      "Begin Platt scaling.\n",
      "Computing logits for model (only happens once).\n",
      "Optimal T=1.2969298362731934\n",
      "Begin Platt scaling.\n",
      "Computing logits for model (only happens once).\n",
      "Optimal T=1.2974075078964233\n",
      "Begin Platt scaling.\n",
      "Computing logits for model (only happens once)."
     ]
    },
    {
     "name": "stderr",
     "output_type": "stream",
     "text": [
      "\n",
      "100%|███████████████████████████████████████████████████████████████████████████████████| 2/2 [00:00<00:00, 487.06it/s]\n",
      "100%|███████████████████████████████████████████████████████████████████████████████████| 2/2 [00:00<00:00, 476.03it/s]"
     ]
    },
    {
     "name": "stdout",
     "output_type": "stream",
     "text": [
      "\n",
      "Optimal T=1.297109842300415\n",
      "Begin Platt scaling.\n",
      "Computing logits for model (only happens once).\n",
      "Optimal T=1.2971150875091553\n",
      "Begin Platt scaling.\n"
     ]
    },
    {
     "name": "stderr",
     "output_type": "stream",
     "text": [
      "\n",
      "100%|███████████████████████████████████████████████████████████████████████████████████| 2/2 [00:00<00:00, 689.68it/s]\n",
      "100%|███████████████████████████████████████████████████████████████████████████████████| 2/2 [00:00<00:00, 499.02it/s]\n"
     ]
    },
    {
     "name": "stdout",
     "output_type": "stream",
     "text": [
      "Computing logits for model (only happens once).\n",
      "Optimal T=1.296987533569336\n",
      "Begin Platt scaling.\n",
      "Computing logits for model (only happens once).\n",
      "Optimal T=1.2972488403320312\n",
      "Begin Platt scaling.\n",
      "Computing logits for model (only happens once).\n"
     ]
    },
    {
     "name": "stderr",
     "output_type": "stream",
     "text": [
      "100%|███████████████████████████████████████████████████████████████████████████████████| 2/2 [00:00<00:00, 665.02it/s]\n",
      "100%|███████████████████████████████████████████████████████████████████████████████████| 2/2 [00:00<00:00, 499.92it/s]\n"
     ]
    },
    {
     "name": "stdout",
     "output_type": "stream",
     "text": [
      "Optimal T=1.2974780797958374\n",
      "Begin Platt scaling.\n",
      "Computing logits for model (only happens once).\n",
      "Optimal T=1.2969958782196045\n",
      "Begin Platt scaling.\n",
      "Computing logits for model (only happens once).\n"
     ]
    },
    {
     "name": "stderr",
     "output_type": "stream",
     "text": [
      "100%|███████████████████████████████████████████████████████████████████████████████████| 2/2 [00:00<00:00, 397.79it/s]\n",
      "100%|███████████████████████████████████████████████████████████████████████████████████| 2/2 [00:00<00:00, 507.54it/s]\n"
     ]
    },
    {
     "name": "stdout",
     "output_type": "stream",
     "text": [
      "Optimal T=1.2971456050872803\n",
      "Begin Platt scaling.\n",
      "Computing logits for model (only happens once).\n",
      "Optimal T=1.297317385673523\n"
     ]
    },
    {
     "name": "stderr",
     "output_type": "stream",
     "text": [
      "100%|███████████████████████████████████████████████████████████████████████████████████| 2/2 [00:00<00:00, 333.41it/s]\n",
      "100%|███████████████████████████████████████████████████████████████████████████████████| 2/2 [00:00<00:00, 499.44it/s]"
     ]
    },
    {
     "name": "stdout",
     "output_type": "stream",
     "text": [
      "Begin Platt scaling.\n",
      "Computing logits for model (only happens once).\n",
      "Optimal T=1.297420859336853\n",
      "Begin Platt scaling.\n",
      "Computing logits for model (only happens once).\n",
      "Optimal T=1.2971829175949097\n"
     ]
    },
    {
     "name": "stderr",
     "output_type": "stream",
     "text": [
      "\n",
      "100%|███████████████████████████████████████████████████████████████████████████████████| 2/2 [00:00<00:00, 507.75it/s]\n",
      "100%|███████████████████████████████████████████████████████████████████████████████████| 2/2 [00:00<00:00, 504.43it/s]"
     ]
    },
    {
     "name": "stdout",
     "output_type": "stream",
     "text": [
      "Begin Platt scaling.\n",
      "Computing logits for model (only happens once).\n",
      "Optimal T=1.2975765466690063\n",
      "Begin Platt scaling.\n",
      "Computing logits for model (only happens once).\n",
      "Optimal T=1.297413945198059\n",
      "Begin Platt scaling.\n"
     ]
    },
    {
     "name": "stderr",
     "output_type": "stream",
     "text": [
      "\n",
      "100%|███████████████████████████████████████████████████████████████████████████████████| 2/2 [00:00<00:00, 528.92it/s]\n",
      "100%|███████████████████████████████████████████████████████████████████████████████████| 2/2 [00:00<00:00, 406.68it/s]\n"
     ]
    },
    {
     "name": "stdout",
     "output_type": "stream",
     "text": [
      "Computing logits for model (only happens once).\n",
      "Optimal T=1.2971147298812866\n",
      "Begin Platt scaling.\n",
      "Computing logits for model (only happens once).\n",
      "Optimal T=1.2977653741836548\n",
      "Begin Platt scaling.\n",
      "Computing logits for model (only happens once).\n"
     ]
    },
    {
     "name": "stderr",
     "output_type": "stream",
     "text": [
      "100%|███████████████████████████████████████████████████████████████████████████████████| 2/2 [00:00<00:00, 590.58it/s]\n"
     ]
    },
    {
     "name": "stdout",
     "output_type": "stream",
     "text": [
      "Optimal T=1.2977522611618042\n"
     ]
    },
    {
     "name": "stderr",
     "output_type": "stream",
     "text": [
      "100%|███████████████████████████████████████████████████████████████████████████████████| 2/2 [00:00<00:00, 687.42it/s]\n",
      "100%|███████████████████████████████████████████████████████████████████████████████████| 2/2 [00:00<00:00, 673.08it/s]"
     ]
    },
    {
     "name": "stdout",
     "output_type": "stream",
     "text": [
      "Begin Platt scaling.\n",
      "Computing logits for model (only happens once).\n",
      "Optimal T=1.2970867156982422\n",
      "Begin Platt scaling.\n",
      "Computing logits for model (only happens once).\n",
      "Optimal T=1.2975715398788452\n",
      "Begin Platt scaling.\n",
      "Computing logits for model (only happens once).\n"
     ]
    },
    {
     "name": "stderr",
     "output_type": "stream",
     "text": [
      "\n",
      "100%|███████████████████████████████████████████████████████████████████████████████████| 2/2 [00:00<00:00, 666.77it/s]\n",
      "100%|███████████████████████████████████████████████████████████████████████████████████| 2/2 [00:00<00:00, 669.43it/s]\n",
      "100%|███████████████████████████████████████████████████████████████████████████████████| 2/2 [00:00<00:00, 471.43it/s]"
     ]
    },
    {
     "name": "stdout",
     "output_type": "stream",
     "text": [
      "Optimal T=1.297539234161377\n",
      "Begin Platt scaling.\n",
      "Computing logits for model (only happens once).\n",
      "Optimal T=1.2968237400054932\n",
      "Begin Platt scaling.\n",
      "Computing logits for model (only happens once).\n"
     ]
    },
    {
     "name": "stderr",
     "output_type": "stream",
     "text": [
      "\n",
      "100%|███████████████████████████████████████████████████████████████████████████████████| 2/2 [00:00<00:00, 668.95it/s]\n",
      "100%|███████████████████████████████████████████████████████████████████████████████████| 2/2 [00:00<00:00, 674.54it/s]"
     ]
    },
    {
     "name": "stdout",
     "output_type": "stream",
     "text": [
      "Optimal T=1.2974379062652588\n",
      "Begin Platt scaling.\n",
      "Computing logits for model (only happens once).\n",
      "Optimal T=1.2977049350738525\n",
      "Begin Platt scaling.\n",
      "Computing logits for model (only happens once).\n"
     ]
    },
    {
     "name": "stderr",
     "output_type": "stream",
     "text": [
      "\n",
      "100%|███████████████████████████████████████████████████████████████████████████████████| 2/2 [00:00<00:00, 500.22it/s]\n"
     ]
    },
    {
     "name": "stdout",
     "output_type": "stream",
     "text": [
      "Optimal T=1.2973968982696533\n",
      "Begin Platt scaling.\n",
      "Computing logits for model (only happens once).\n",
      "Optimal T=1.2977416515350342\n",
      "Begin Platt scaling.\n",
      "Computing logits for model (only happens once).\n"
     ]
    },
    {
     "name": "stderr",
     "output_type": "stream",
     "text": [
      "100%|███████████████████████████████████████████████████████████████████████████████████| 2/2 [00:00<00:00, 622.35it/s]\n",
      "100%|███████████████████████████████████████████████████████████████████████████████████| 2/2 [00:00<00:00, 659.84it/s]\n"
     ]
    },
    {
     "name": "stdout",
     "output_type": "stream",
     "text": [
      "Optimal T=1.2972973585128784\n",
      "Begin Platt scaling.\n",
      "Computing logits for model (only happens once).\n",
      "Optimal T=1.2976081371307373\n",
      "Begin Platt scaling.\n",
      "Computing logits for model (only happens once).\n"
     ]
    },
    {
     "name": "stderr",
     "output_type": "stream",
     "text": [
      "100%|███████████████████████████████████████████████████████████████████████████████████| 2/2 [00:00<00:00, 400.20it/s]\n",
      "100%|███████████████████████████████████████████████████████████████████████████████████| 2/2 [00:00<00:00, 630.77it/s]\n"
     ]
    },
    {
     "name": "stdout",
     "output_type": "stream",
     "text": [
      "Optimal T=1.297223448753357\n",
      "Begin Platt scaling.\n",
      "Computing logits for model (only happens once).\n",
      "Optimal T=1.2968311309814453\n",
      "Begin Platt scaling.\n",
      "Computing logits for model (only happens once).\n"
     ]
    },
    {
     "name": "stderr",
     "output_type": "stream",
     "text": [
      "100%|███████████████████████████████████████████████████████████████████████████████████| 2/2 [00:00<00:00, 399.31it/s]\n",
      "100%|███████████████████████████████████████████████████████████████████████████████████| 2/2 [00:00<00:00, 500.01it/s]\n"
     ]
    },
    {
     "name": "stdout",
     "output_type": "stream",
     "text": [
      "Optimal T=1.2972910404205322\n",
      "Begin Platt scaling.\n",
      "Computing logits for model (only happens once).\n",
      "Optimal T=1.2973709106445312\n",
      "Begin Platt scaling.\n"
     ]
    },
    {
     "name": "stderr",
     "output_type": "stream",
     "text": [
      "100%|███████████████████████████████████████████████████████████████████████████████████| 2/2 [00:00<00:00, 558.01it/s]\n",
      "100%|███████████████████████████████████████████████████████████████████████████████████| 2/2 [00:00<00:00, 499.56it/s]\n",
      "100%|███████████████████████████████████████████████████████████████████████████████████| 2/2 [00:00<00:00, 492.14it/s]"
     ]
    },
    {
     "name": "stdout",
     "output_type": "stream",
     "text": [
      "Computing logits for model (only happens once).\n",
      "Optimal T=1.297211766242981\n",
      "Begin Platt scaling.\n",
      "Computing logits for model (only happens once).\n",
      "Optimal T=1.2973929643630981\n",
      "Begin Platt scaling.\n",
      "Computing logits for model (only happens once).\n"
     ]
    },
    {
     "name": "stderr",
     "output_type": "stream",
     "text": [
      "\n"
     ]
    },
    {
     "name": "stdout",
     "output_type": "stream",
     "text": [
      "Optimal T=1.2972253561019897\n"
     ]
    },
    {
     "name": "stderr",
     "output_type": "stream",
     "text": [
      "100%|███████████████████████████████████████████████████████████████████████████████████| 2/2 [00:00<00:00, 504.94it/s]\n",
      "100%|███████████████████████████████████████████████████████████████████████████████████| 2/2 [00:00<00:00, 528.18it/s]"
     ]
    },
    {
     "name": "stdout",
     "output_type": "stream",
     "text": [
      "Begin Platt scaling.\n",
      "Computing logits for model (only happens once).\n",
      "Optimal T=1.2973213195800781\n",
      "Begin Platt scaling.\n",
      "Computing logits for model (only happens once).\n",
      "Optimal T=1.2976253032684326\n",
      "Begin Platt scaling.\n"
     ]
    },
    {
     "name": "stderr",
     "output_type": "stream",
     "text": [
      "\n",
      "100%|███████████████████████████████████████████████████████████████████████████████████| 2/2 [00:00<00:00, 475.17it/s]\n",
      "100%|███████████████████████████████████████████████████████████████████████████████████| 2/2 [00:00<00:00, 499.71it/s]"
     ]
    },
    {
     "name": "stdout",
     "output_type": "stream",
     "text": [
      "Computing logits for model (only happens once).\n",
      "Optimal T=1.2971044778823853\n",
      "Begin Platt scaling.\n",
      "Computing logits for model (only happens once).\n",
      "Optimal T=1.2970727682113647\n"
     ]
    },
    {
     "name": "stderr",
     "output_type": "stream",
     "text": [
      "\n",
      "100%|███████████████████████████████████████████████████████████████████████████████████| 2/2 [00:00<00:00, 499.98it/s]\n",
      "100%|███████████████████████████████████████████████████████████████████████████████████| 2/2 [00:00<00:00, 674.43it/s]\n"
     ]
    },
    {
     "name": "stdout",
     "output_type": "stream",
     "text": [
      "Begin Platt scaling.\n",
      "Computing logits for model (only happens once).\n",
      "Optimal T=1.2970242500305176\n",
      "Begin Platt scaling.\n",
      "Computing logits for model (only happens once).\n",
      "Optimal T=1.29703688621521\n",
      "Begin Platt scaling.\n",
      "Computing logits for model (only happens once).\n"
     ]
    },
    {
     "name": "stderr",
     "output_type": "stream",
     "text": [
      "100%|███████████████████████████████████████████████████████████████████████████████████| 2/2 [00:00<00:00, 500.01it/s]\n",
      "100%|███████████████████████████████████████████████████████████████████████████████████| 2/2 [00:00<00:00, 504.09it/s]\n"
     ]
    },
    {
     "name": "stdout",
     "output_type": "stream",
     "text": [
      "Optimal T=1.2975132465362549\n",
      "Begin Platt scaling.\n",
      "Computing logits for model (only happens once).\n",
      "Optimal T=1.297073483467102\n",
      "Begin Platt scaling.\n",
      "Computing logits for model (only happens once).\n"
     ]
    },
    {
     "name": "stderr",
     "output_type": "stream",
     "text": [
      "100%|███████████████████████████████████████████████████████████████████████████████████| 2/2 [00:00<00:00, 666.71it/s]\n",
      "100%|███████████████████████████████████████████████████████████████████████████████████| 2/2 [00:00<00:00, 456.57it/s]\n",
      "  0%|                                                                                            | 0/2 [00:00<?, ?it/s]"
     ]
    },
    {
     "name": "stdout",
     "output_type": "stream",
     "text": [
      "Optimal T=1.2971477508544922\n",
      "Begin Platt scaling.\n",
      "Computing logits for model (only happens once).\n",
      "Optimal T=1.2974647283554077\n",
      "Begin Platt scaling.\n",
      "Computing logits for model (only happens once).\n"
     ]
    },
    {
     "name": "stderr",
     "output_type": "stream",
     "text": [
      "100%|███████████████████████████████████████████████████████████████████████████████████| 2/2 [00:00<00:00, 634.73it/s]\n",
      "100%|███████████████████████████████████████████████████████████████████████████████████| 2/2 [00:00<00:00, 547.63it/s]\n",
      "  0%|                                                                                            | 0/2 [00:00<?, ?it/s]"
     ]
    },
    {
     "name": "stdout",
     "output_type": "stream",
     "text": [
      "Optimal T=1.2976586818695068\n",
      "Begin Platt scaling.\n",
      "Computing logits for model (only happens once).\n",
      "Optimal T=1.29723060131073\n",
      "Begin Platt scaling.\n",
      "Computing logits for model (only happens once).\n"
     ]
    },
    {
     "name": "stderr",
     "output_type": "stream",
     "text": [
      "100%|███████████████████████████████████████████████████████████████████████████████████| 2/2 [00:00<00:00, 673.24it/s]\n",
      "100%|███████████████████████████████████████████████████████████████████████████████████| 2/2 [00:00<00:00, 504.18it/s]\n"
     ]
    },
    {
     "name": "stdout",
     "output_type": "stream",
     "text": [
      "Optimal T=1.2975367307662964\n",
      "Begin Platt scaling.\n",
      "Computing logits for model (only happens once).\n",
      "Optimal T=1.2976878881454468\n"
     ]
    },
    {
     "name": "stderr",
     "output_type": "stream",
     "text": [
      "100%|███████████████████████████████████████████████████████████████████████████████████| 2/2 [00:00<00:00, 402.06it/s]\n",
      "100%|███████████████████████████████████████████████████████████████████████████████████| 2/2 [00:00<00:00, 676.12it/s]\n"
     ]
    },
    {
     "name": "stdout",
     "output_type": "stream",
     "text": [
      "Begin Platt scaling.\n",
      "Computing logits for model (only happens once).\n",
      "Optimal T=1.2971805334091187\n",
      "Begin Platt scaling.\n",
      "Computing logits for model (only happens once).\n",
      "Optimal T=1.2969812154769897\n"
     ]
    },
    {
     "name": "stderr",
     "output_type": "stream",
     "text": [
      "100%|███████████████████████████████████████████████████████████████████████████████████| 2/2 [00:00<00:00, 516.64it/s]\n",
      "100%|███████████████████████████████████████████████████████████████████████████████████| 2/2 [00:00<00:00, 666.56it/s]\n"
     ]
    },
    {
     "name": "stdout",
     "output_type": "stream",
     "text": [
      "Begin Platt scaling.\n",
      "Computing logits for model (only happens once).\n",
      "Optimal T=1.2973030805587769\n",
      "Begin Platt scaling.\n",
      "Computing logits for model (only happens once).\n",
      "Optimal T=1.2974345684051514\n",
      "Begin Platt scaling.\n",
      "Computing logits for model (only happens once).\n"
     ]
    },
    {
     "name": "stderr",
     "output_type": "stream",
     "text": [
      "100%|███████████████████████████████████████████████████████████████████████████████████| 2/2 [00:00<00:00, 499.74it/s]\n",
      "100%|███████████████████████████████████████████████████████████████████████████████████| 2/2 [00:00<00:00, 476.19it/s]\n"
     ]
    },
    {
     "name": "stdout",
     "output_type": "stream",
     "text": [
      "Optimal T=1.2976269721984863\n",
      "Begin Platt scaling.\n",
      "Computing logits for model (only happens once).\n",
      "Optimal T=1.2974250316619873\n",
      "Begin Platt scaling.\n",
      "Computing logits for model (only happens once).\n"
     ]
    },
    {
     "name": "stderr",
     "output_type": "stream",
     "text": [
      "100%|███████████████████████████████████████████████████████████████████████████████████| 2/2 [00:00<00:00, 495.96it/s]\n",
      "100%|███████████████████████████████████████████████████████████████████████████████████| 2/2 [00:00<00:00, 499.62it/s]\n"
     ]
    },
    {
     "name": "stdout",
     "output_type": "stream",
     "text": [
      "Optimal T=1.2972198724746704\n",
      "Begin Platt scaling.\n",
      "Computing logits for model (only happens once).\n",
      "Optimal T=1.2972548007965088\n",
      "Begin Platt scaling.\n",
      "Computing logits for model (only happens once).\n"
     ]
    },
    {
     "name": "stderr",
     "output_type": "stream",
     "text": [
      "100%|███████████████████████████████████████████████████████████████████████████████████| 2/2 [00:00<00:00, 666.56it/s]\n",
      "100%|███████████████████████████████████████████████████████████████████████████████████| 2/2 [00:00<00:00, 674.05it/s]\n",
      "100%|███████████████████████████████████████████████████████████████████████████████████| 2/2 [00:00<00:00, 680.95it/s]"
     ]
    },
    {
     "name": "stdout",
     "output_type": "stream",
     "text": [
      "Optimal T=1.2976083755493164\n",
      "Begin Platt scaling.\n",
      "Computing logits for model (only happens once).\n",
      "Optimal T=1.2971744537353516\n",
      "Begin Platt scaling.\n",
      "Computing logits for model (only happens once).\n",
      "Optimal T=1.297027826309204\n"
     ]
    },
    {
     "name": "stderr",
     "output_type": "stream",
     "text": [
      "\n",
      "100%|███████████████████████████████████████████████████████████████████████████████████| 2/2 [00:00<00:00, 500.27it/s]\n",
      "100%|███████████████████████████████████████████████████████████████████████████████████| 2/2 [00:00<00:00, 489.62it/s]\n"
     ]
    },
    {
     "name": "stdout",
     "output_type": "stream",
     "text": [
      "Begin Platt scaling.\n",
      "Computing logits for model (only happens once).\n",
      "Optimal T=1.2972875833511353\n",
      "Begin Platt scaling.\n",
      "Computing logits for model (only happens once).\n",
      "Optimal T=1.2972385883331299\n",
      "Begin Platt scaling.\n",
      "Computing logits for model (only happens once).\n"
     ]
    },
    {
     "name": "stderr",
     "output_type": "stream",
     "text": [
      "100%|███████████████████████████████████████████████████████████████████████████████████| 2/2 [00:00<00:00, 501.05it/s]\n",
      "100%|███████████████████████████████████████████████████████████████████████████████████| 2/2 [00:00<00:00, 399.91it/s]\n"
     ]
    },
    {
     "name": "stdout",
     "output_type": "stream",
     "text": [
      "Optimal T=1.2975257635116577\n",
      "Begin Platt scaling.\n",
      "Computing logits for model (only happens once).\n",
      "Optimal T=1.2973202466964722\n",
      "Begin Platt scaling.\n",
      "Computing logits for model (only happens once).\n"
     ]
    },
    {
     "name": "stderr",
     "output_type": "stream",
     "text": [
      "100%|███████████████████████████████████████████████████████████████████████████████████| 2/2 [00:00<00:00, 472.38it/s]\n",
      "100%|███████████████████████████████████████████████████████████████████████████████████| 2/2 [00:00<00:00, 500.10it/s]\n"
     ]
    },
    {
     "name": "stdout",
     "output_type": "stream",
     "text": [
      "Optimal T=1.2974727153778076\n",
      "Begin Platt scaling.\n",
      "Computing logits for model (only happens once).\n",
      "Optimal T=1.2972954511642456\n",
      "Begin Platt scaling.\n",
      "Computing logits for model (only happens once).\n"
     ]
    },
    {
     "name": "stderr",
     "output_type": "stream",
     "text": [
      "100%|███████████████████████████████████████████████████████████████████████████████████| 2/2 [00:00<00:00, 503.49it/s]\n",
      "100%|███████████████████████████████████████████████████████████████████████████████████| 2/2 [00:00<00:00, 499.74it/s]\n"
     ]
    },
    {
     "name": "stdout",
     "output_type": "stream",
     "text": [
      "Optimal T=1.2975354194641113\n",
      "Begin Platt scaling.\n",
      "Computing logits for model (only happens once).\n",
      "Optimal T=1.2971059083938599\n",
      "Begin Platt scaling.\n",
      "Computing logits for model (only happens once).\n"
     ]
    },
    {
     "name": "stderr",
     "output_type": "stream",
     "text": [
      "100%|███████████████████████████████████████████████████████████████████████████████████| 2/2 [00:00<00:00, 478.07it/s]\n",
      "100%|███████████████████████████████████████████████████████████████████████████████████| 2/2 [00:00<00:00, 400.05it/s]\n"
     ]
    },
    {
     "name": "stdout",
     "output_type": "stream",
     "text": [
      "Optimal T=1.297417402267456\n",
      "Begin Platt scaling.\n",
      "Computing logits for model (only happens once).\n",
      "Optimal T=1.2977871894836426\n",
      "Begin Platt scaling.\n",
      "Computing logits for model (only happens once).\n"
     ]
    },
    {
     "name": "stderr",
     "output_type": "stream",
     "text": [
      "100%|███████████████████████████████████████████████████████████████████████████████████| 2/2 [00:00<00:00, 499.68it/s]\n",
      "100%|███████████████████████████████████████████████████████████████████████████████████| 2/2 [00:00<00:00, 675.63it/s]\n"
     ]
    },
    {
     "name": "stdout",
     "output_type": "stream",
     "text": [
      "Optimal T=1.2970141172409058\n",
      "Begin Platt scaling.\n",
      "Computing logits for model (only happens once).\n",
      "Optimal T=1.2974047660827637\n",
      "Begin Platt scaling.\n",
      "Computing logits for model (only happens once).\n"
     ]
    },
    {
     "name": "stderr",
     "output_type": "stream",
     "text": [
      "100%|███████████████████████████████████████████████████████████████████████████████████| 2/2 [00:00<00:00, 666.29it/s]\n",
      "100%|███████████████████████████████████████████████████████████████████████████████████| 2/2 [00:00<00:00, 666.98it/s]\n",
      "100%|███████████████████████████████████████████████████████████████████████████████████| 2/2 [00:00<00:00, 666.45it/s]"
     ]
    },
    {
     "name": "stdout",
     "output_type": "stream",
     "text": [
      "Optimal T=1.2971621751785278\n",
      "Begin Platt scaling.\n",
      "Computing logits for model (only happens once).\n",
      "Optimal T=1.2972480058670044\n",
      "Begin Platt scaling.\n",
      "Computing logits for model (only happens once).\n",
      "Optimal T=1.2971594333648682\n"
     ]
    },
    {
     "name": "stderr",
     "output_type": "stream",
     "text": [
      "\n",
      "100%|███████████████████████████████████████████████████████████████████████████████████| 2/2 [00:00<00:00, 499.62it/s]\n",
      "100%|███████████████████████████████████████████████████████████████████████████████████| 2/2 [00:00<00:00, 666.77it/s]\n"
     ]
    },
    {
     "name": "stdout",
     "output_type": "stream",
     "text": [
      "Begin Platt scaling.\n",
      "Computing logits for model (only happens once).\n",
      "Optimal T=1.2970466613769531\n",
      "Begin Platt scaling.\n",
      "Computing logits for model (only happens once).\n",
      "Optimal T=1.2973941564559937\n",
      "Begin Platt scaling.\n",
      "Computing logits for model (only happens once).\n"
     ]
    },
    {
     "name": "stderr",
     "output_type": "stream",
     "text": [
      "100%|███████████████████████████████████████████████████████████████████████████████████| 2/2 [00:00<00:00, 499.86it/s]\n",
      "100%|███████████████████████████████████████████████████████████████████████████████████| 2/2 [00:00<00:00, 666.29it/s]\n",
      "100%|███████████████████████████████████████████████████████████████████████████████████| 2/2 [00:00<00:00, 666.61it/s]"
     ]
    },
    {
     "name": "stdout",
     "output_type": "stream",
     "text": [
      "Optimal T=1.2972625494003296\n",
      "Begin Platt scaling.\n",
      "Computing logits for model (only happens once).\n",
      "Optimal T=1.2977524995803833\n",
      "Begin Platt scaling.\n",
      "Computing logits for model (only happens once).\n"
     ]
    },
    {
     "name": "stderr",
     "output_type": "stream",
     "text": [
      "\n",
      "100%|███████████████████████████████████████████████████████████████████████████████████| 2/2 [00:00<00:00, 538.53it/s]\n"
     ]
    },
    {
     "name": "stdout",
     "output_type": "stream",
     "text": [
      "Optimal T=1.2973322868347168\n",
      "Begin Platt scaling.\n",
      "Computing logits for model (only happens once).\n",
      "Optimal T=1.2976794242858887\n",
      "Begin Platt scaling.\n",
      "Computing logits for model (only happens once).\n"
     ]
    },
    {
     "name": "stderr",
     "output_type": "stream",
     "text": [
      "100%|███████████████████████████████████████████████████████████████████████████████████| 2/2 [00:00<00:00, 425.80it/s]\n",
      "100%|███████████████████████████████████████████████████████████████████████████████████| 2/2 [00:00<00:00, 487.00it/s]\n",
      "100%|███████████████████████████████████████████████████████████████████████████████████| 2/2 [00:00<00:00, 669.54it/s]"
     ]
    },
    {
     "name": "stdout",
     "output_type": "stream",
     "text": [
      "Optimal T=1.297385573387146\n",
      "Begin Platt scaling.\n",
      "Computing logits for model (only happens once).\n",
      "Optimal T=1.297310471534729\n",
      "Begin Platt scaling.\n",
      "Computing logits for model (only happens once).\n",
      "Optimal T=1.2970316410064697\n"
     ]
    },
    {
     "name": "stderr",
     "output_type": "stream",
     "text": [
      "\n",
      "100%|███████████████████████████████████████████████████████████████████████████████████| 2/2 [00:00<00:00, 672.33it/s]\n",
      "100%|███████████████████████████████████████████████████████████████████████████████████| 2/2 [00:00<00:00, 713.20it/s]\n"
     ]
    },
    {
     "name": "stdout",
     "output_type": "stream",
     "text": [
      "Begin Platt scaling.\n",
      "Computing logits for model (only happens once).\n",
      "Optimal T=1.2973852157592773\n",
      "Begin Platt scaling.\n",
      "Computing logits for model (only happens once).\n",
      "Optimal T=1.2975223064422607\n",
      "Begin Platt scaling.\n"
     ]
    },
    {
     "name": "stderr",
     "output_type": "stream",
     "text": [
      "100%|███████████████████████████████████████████████████████████████████████████████████| 2/2 [00:00<00:00, 497.60it/s]\n",
      "100%|███████████████████████████████████████████████████████████████████████████████████| 2/2 [00:00<00:00, 585.47it/s]\n",
      "100%|███████████████████████████████████████████████████████████████████████████████████| 2/2 [00:00<00:00, 490.88it/s]"
     ]
    },
    {
     "name": "stdout",
     "output_type": "stream",
     "text": [
      "Computing logits for model (only happens once).\n",
      "Optimal T=1.2971949577331543\n",
      "Begin Platt scaling.\n",
      "Computing logits for model (only happens once).\n",
      "Optimal T=1.2973690032958984\n",
      "Begin Platt scaling.\n",
      "Computing logits for model (only happens once).\n",
      "Optimal T=1.2973628044128418\n"
     ]
    },
    {
     "name": "stderr",
     "output_type": "stream",
     "text": [
      "\n",
      "100%|███████████████████████████████████████████████████████████████████████████████████| 2/2 [00:00<00:00, 497.31it/s]\n",
      "100%|███████████████████████████████████████████████████████████████████████████████████| 2/2 [00:00<00:00, 492.93it/s]"
     ]
    },
    {
     "name": "stdout",
     "output_type": "stream",
     "text": [
      "Begin Platt scaling.\n",
      "Computing logits for model (only happens once).\n",
      "Optimal T=1.2972244024276733\n",
      "Begin Platt scaling.\n",
      "Computing logits for model (only happens once).\n",
      "Optimal T=1.2971322536468506\n"
     ]
    },
    {
     "name": "stderr",
     "output_type": "stream",
     "text": [
      "\n",
      "100%|███████████████████████████████████████████████████████████████████████████████████| 2/2 [00:00<00:00, 666.98it/s]\n",
      "100%|███████████████████████████████████████████████████████████████████████████████████| 2/2 [00:00<00:00, 500.01it/s]"
     ]
    },
    {
     "name": "stdout",
     "output_type": "stream",
     "text": [
      "Begin Platt scaling.\n",
      "Computing logits for model (only happens once).\n",
      "Optimal T=1.2973501682281494\n",
      "Begin Platt scaling.\n",
      "Computing logits for model (only happens once).\n",
      "Optimal T=1.2973374128341675\n"
     ]
    },
    {
     "name": "stderr",
     "output_type": "stream",
     "text": [
      "\n",
      "100%|███████████████████████████████████████████████████████████████████████████████████| 2/2 [00:00<00:00, 422.86it/s]\n",
      "100%|███████████████████████████████████████████████████████████████████████████████████| 2/2 [00:00<00:00, 674.16it/s]"
     ]
    },
    {
     "name": "stdout",
     "output_type": "stream",
     "text": [
      "Begin Platt scaling.\n",
      "Computing logits for model (only happens once).\n",
      "Optimal T=1.2976255416870117\n",
      "Begin Platt scaling.\n",
      "Computing logits for model (only happens once).\n",
      "Optimal T=1.297223687171936\n",
      "Begin Platt scaling.\n"
     ]
    },
    {
     "name": "stderr",
     "output_type": "stream",
     "text": [
      "\n",
      "100%|███████████████████████████████████████████████████████████████████████████████████| 2/2 [00:00<00:00, 399.61it/s]\n",
      "100%|███████████████████████████████████████████████████████████████████████████████████| 2/2 [00:00<00:00, 500.19it/s]"
     ]
    },
    {
     "name": "stdout",
     "output_type": "stream",
     "text": [
      "Computing logits for model (only happens once).\n",
      "Optimal T=1.2975932359695435\n",
      "Begin Platt scaling.\n",
      "Computing logits for model (only happens once).\n",
      "Optimal T=1.2970114946365356\n",
      "Begin Platt scaling.\n"
     ]
    },
    {
     "name": "stderr",
     "output_type": "stream",
     "text": [
      "\n",
      "100%|███████████████████████████████████████████████████████████████████████████████████| 2/2 [00:00<00:00, 665.92it/s]\n",
      "100%|███████████████████████████████████████████████████████████████████████████████████| 2/2 [00:00<00:00, 400.01it/s]"
     ]
    },
    {
     "name": "stdout",
     "output_type": "stream",
     "text": [
      "Computing logits for model (only happens once).\n",
      "Optimal T=1.2971203327178955\n",
      "Begin Platt scaling.\n",
      "Computing logits for model (only happens once).\n",
      "Optimal T=1.2969257831573486\n"
     ]
    },
    {
     "name": "stderr",
     "output_type": "stream",
     "text": [
      "\n"
     ]
    }
   ],
   "source": [
    "#RAPS\n",
    "\n",
    "from third_party.RAPS.RAPS_conformal import *\n",
    "\n",
    "model = NeuralNetwork(input_size = N_FEATURES, num_neurons = NUM_NEURONS, out_size = N_CLASSES,\n",
    "                      seed = SEED, l2_reg = REG).to(device)\n",
    "Xtrain_prop, Xval, Ytrain_prop, Yval = train_test_split(Xtrain, Ytrain, test_size = 0.2, random_state = SEED)\n",
    "model.fit(Xtrain_prop, Ytrain_prop, seed = SEED) #training on proper training set\n",
    "calib_loader = torch.utils.data.DataLoader(create_set(Xval, Yval), batch_size=128, shuffle=True, pin_memory=True) #calib data\n",
    "sizes = {}\n",
    "for i, epsilon in enumerate(epsilons): #repeat for each epsilon\n",
    "    cmodel = ConformalModel(model, calib_loader, alpha=epsilon, lamda_criterion='size', allow_zero_sets=True) #building RAPS\n",
    "    \n",
    "    for j in range(len(Ytest)):\n",
    "        _, set = cmodel(check_tensor(np.expand_dims(Xtest[j], axis=0)).to(device)) #constructing prediction sets\n",
    "        \n",
    "        if epsilon not in sizes:\n",
    "            sizes[epsilon] = [len(list(set[0]))]\n",
    "        else:\n",
    "            sizes[epsilon].append(len(list(set[0])))\n",
    "    \n",
    "curve_all_RAPS = [np.mean(sizes[epsilon]) for epsilon in sizes] #average prediction set size w.r.t epsilon\n",
    "AUC_all_RAPS = round(simps(curve_all_RAPS[:21], epsilons[:21]),3) #AUC"
   ]
  },
  {
   "cell_type": "code",
   "execution_count": 15,
   "metadata": {
    "scrolled": true
   },
   "outputs": [
    {
     "name": "stdout",
     "output_type": "stream",
     "text": [
      "Epoch: 1 - Validation Loss: 2.6547\n",
      "Epoch: 10 - Validation Loss: 2.1409\n",
      "Epoch: 20 - Validation Loss: 1.8083\n",
      "Epoch: 30 - Validation Loss: 1.5507\n",
      "Epoch: 40 - Validation Loss: 1.3418\n",
      "Epoch: 50 - Validation Loss: 1.2044\n",
      "Epoch: 60 - Validation Loss: 1.1104\n",
      "Epoch: 70 - Validation Loss: 1.0377\n",
      "Epoch: 80 - Validation Loss: 0.9775\n",
      "Epoch: 90 - Validation Loss: 0.9327\n",
      "Epoch: 100 - Validation Loss: 0.8972\n",
      "Epoch: 110 - Validation Loss: 0.8656\n",
      "Epoch: 120 - Validation Loss: 0.8377\n",
      "Epoch: 130 - Validation Loss: 0.8122\n",
      "Epoch: 140 - Validation Loss: 0.7959\n",
      "Epoch: 150 - Validation Loss: 0.7790\n",
      "Epoch: 160 - Validation Loss: 0.7645\n",
      "Epoch: 170 - Validation Loss: 0.7536\n",
      "Epoch: 180 - Validation Loss: 0.7410\n",
      "Epoch: 190 - Validation Loss: 0.7327\n",
      "Epoch: 200 - Validation Loss: 0.7241\n",
      "Epoch: 1 - Validation Loss: 2.7529\n",
      "Epoch: 10 - Validation Loss: 2.2280\n",
      "Epoch: 20 - Validation Loss: 1.9128\n",
      "Epoch: 30 - Validation Loss: 1.6499\n",
      "Epoch: 40 - Validation Loss: 1.4725\n",
      "Epoch: 50 - Validation Loss: 1.3511\n",
      "Epoch: 60 - Validation Loss: 1.2545\n",
      "Epoch: 70 - Validation Loss: 1.1903\n",
      "Epoch: 80 - Validation Loss: 1.1370\n",
      "Epoch: 90 - Validation Loss: 1.0936\n",
      "Epoch: 100 - Validation Loss: 1.0589\n",
      "Epoch: 110 - Validation Loss: 1.0321\n",
      "Epoch: 120 - Validation Loss: 1.0102\n",
      "Epoch: 130 - Validation Loss: 0.9880\n",
      "Epoch: 140 - Validation Loss: 0.9727\n",
      "Epoch: 150 - Validation Loss: 0.9559\n",
      "Epoch: 160 - Validation Loss: 0.9429\n",
      "Epoch: 170 - Validation Loss: 0.9315\n",
      "Epoch: 180 - Validation Loss: 0.9229\n",
      "Epoch: 190 - Validation Loss: 0.9112\n",
      "Epoch: 200 - Validation Loss: 0.9066\n",
      "Epoch: 1 - Validation Loss: 2.6575\n",
      "Epoch: 10 - Validation Loss: 2.1074\n",
      "Epoch: 20 - Validation Loss: 1.7595\n",
      "Epoch: 30 - Validation Loss: 1.5126\n",
      "Epoch: 40 - Validation Loss: 1.3245\n",
      "Epoch: 50 - Validation Loss: 1.1957\n",
      "Epoch: 60 - Validation Loss: 1.0980\n",
      "Epoch: 70 - Validation Loss: 1.0295\n",
      "Epoch: 80 - Validation Loss: 0.9753\n",
      "Epoch: 90 - Validation Loss: 0.9251\n",
      "Epoch: 100 - Validation Loss: 0.8853\n",
      "Epoch: 110 - Validation Loss: 0.8548\n",
      "Epoch: 120 - Validation Loss: 0.8298\n",
      "Epoch: 130 - Validation Loss: 0.8072\n",
      "Epoch: 140 - Validation Loss: 0.7886\n",
      "Epoch: 150 - Validation Loss: 0.7714\n",
      "Epoch: 160 - Validation Loss: 0.7584\n",
      "Epoch: 170 - Validation Loss: 0.7453\n",
      "Epoch: 180 - Validation Loss: 0.7367\n",
      "Epoch: 190 - Validation Loss: 0.7287\n",
      "Epoch: 200 - Validation Loss: 0.7197\n",
      "Epoch: 1 - Validation Loss: 2.6277\n",
      "Epoch: 10 - Validation Loss: 2.1306\n",
      "Epoch: 20 - Validation Loss: 1.8491\n",
      "Epoch: 30 - Validation Loss: 1.6320\n",
      "Epoch: 40 - Validation Loss: 1.4573\n",
      "Epoch: 50 - Validation Loss: 1.3324\n",
      "Epoch: 60 - Validation Loss: 1.2417\n",
      "Epoch: 70 - Validation Loss: 1.1665\n",
      "Epoch: 80 - Validation Loss: 1.1059\n",
      "Epoch: 90 - Validation Loss: 1.0657\n",
      "Epoch: 100 - Validation Loss: 1.0299\n",
      "Epoch: 110 - Validation Loss: 1.0008\n",
      "Epoch: 120 - Validation Loss: 0.9775\n",
      "Epoch: 130 - Validation Loss: 0.9627\n",
      "Epoch: 140 - Validation Loss: 0.9434\n",
      "Epoch: 150 - Validation Loss: 0.9249\n",
      "Epoch: 160 - Validation Loss: 0.9120\n",
      "Epoch: 170 - Validation Loss: 0.9023\n",
      "Epoch: 180 - Validation Loss: 0.8934\n",
      "Epoch: 190 - Validation Loss: 0.8841\n",
      "Epoch: 200 - Validation Loss: 0.8780\n",
      "Epoch: 1 - Validation Loss: 2.7481\n",
      "Epoch: 10 - Validation Loss: 2.2296\n",
      "Epoch: 20 - Validation Loss: 1.8714\n",
      "Epoch: 30 - Validation Loss: 1.6096\n",
      "Epoch: 40 - Validation Loss: 1.4231\n",
      "Epoch: 50 - Validation Loss: 1.2777\n",
      "Epoch: 60 - Validation Loss: 1.1803\n",
      "Epoch: 70 - Validation Loss: 1.1111\n",
      "Epoch: 80 - Validation Loss: 1.0460\n",
      "Epoch: 90 - Validation Loss: 1.0085\n",
      "Epoch: 100 - Validation Loss: 0.9683\n",
      "Epoch: 110 - Validation Loss: 0.9389\n",
      "Epoch: 120 - Validation Loss: 0.9146\n",
      "Epoch: 130 - Validation Loss: 0.9005\n",
      "Epoch: 140 - Validation Loss: 0.8764\n",
      "Epoch: 150 - Validation Loss: 0.8619\n",
      "Epoch: 160 - Validation Loss: 0.8508\n",
      "Epoch: 170 - Validation Loss: 0.8402\n",
      "Epoch: 180 - Validation Loss: 0.8257\n",
      "Epoch: 190 - Validation Loss: 0.8166\n",
      "Epoch: 200 - Validation Loss: 0.8072\n"
     ]
    }
   ],
   "source": [
    "#CV+\n",
    "\n",
    "from third_party.ARC.arc import models, methods, black_boxes, coverage\n",
    "\n",
    "model = NeuralNetwork(input_size = N_FEATURES, num_neurons = NUM_NEURONS, out_size = N_CLASSES,\n",
    "                      seed = SEED, l2_reg = REG).to(device)\n",
    "method_cv = methods.CVPlus(Xtrain, Ytrain, model, n_folds=5, seed = SEED, verbose = False) #building CV+\n",
    "sizes = {}\n",
    "\n",
    "for i, epsilon in enumerate(epsilons): #repeat for each epsilon\n",
    "        for j in range(len(Ytest)):\n",
    "            set = method_cv.predict(check_tensor(np.expand_dims(Xtest[j], axis=0)).to(device), alpha = epsilon) #constructing prediction sets\n",
    "        \n",
    "            if epsilon not in sizes:\n",
    "                sizes[epsilon] = [len(list(set[0]))]\n",
    "            else:\n",
    "                sizes[epsilon].append(len(list(set[0])))\n",
    "            \n",
    "curve_all_CV_plus = [np.mean(sizes[epsilon]) for epsilon in sizes] #average prediction set size w.r.t epsilon\n",
    "AUC_all_CV_plus = round(simps(curve_all_CV_plus[:21], epsilons[:21]),3) #AUC"
   ]
  },
  {
   "cell_type": "markdown",
   "metadata": {},
   "source": [
    "We measure the efficiency with the  AUC in the interval $\\varepsilon \\in [0,0.2]$ (the lower the AUC; the higher the efficiency). ACP is consistently better than existing alternatives in terms of statistical power: it attains the desired error rate with tighter prediction sets. "
   ]
  },
  {
   "cell_type": "code",
   "execution_count": 16,
   "metadata": {},
   "outputs": [
    {
     "data": {
      "image/png": "[encoded data removed]",
      "text/plain": [
       "<Figure size 720x432 with 1 Axes>"
      ]
     },
     "metadata": {
      "needs_background": "light"
     },
     "output_type": "display_data"
    }
   ],
   "source": [
    "import matplotlib.patches as patches\n",
    "fig, ax = plt.subplots(figsize=(10, 6))\n",
    "\n",
    "plt.plot(epsilons, curve_all, label =\"ACP (D) (AUC = {})\".format(AUC_all), linewidth = 3)\n",
    "plt.plot(epsilons, curve_all_split_cp, label =\"SCP (AUC = {})\".format(AUC_all_split_cp), linewidth = 3, color=\"green\")\n",
    "plt.plot(epsilons, curve_all_RAPS, label =\"RAPS (AUC = {})\".format(AUC_all_RAPS), linewidth = 3, color = \"red\")\n",
    "plt.plot(epsilons, curve_all_CV_plus, label =\"CV+ (AUC = {})\".format(AUC_all_CV_plus), linewidth = 3, color = \"m\")\n",
    "\n",
    "rect = patches.Rectangle((0.001,0), 0.2, N_CLASSES - 0.01, ls=\"--\", linewidth=3, edgecolor='black', facecolor='none', zorder = 5)\n",
    "ax.add_patch(rect)\n",
    "\n",
    "plt.legend(fontsize = \"24\", shadow = True, facecolor='white', framealpha=1)\n",
    "plt.xscale(\"linear\")\n",
    "plt.xlim([-0.0001, 1.0])\n",
    "plt.ylim([-0.01, N_CLASSES])\n",
    "plt.xticks(fontsize = \"28\")\n",
    "plt.yticks(np.arange(N_CLASSES+1).tolist(), fontsize = \"28\")\n",
    "plt.ylabel(\"Prediction set size\", fontsize = \"36\")\n",
    "plt.xlabel(r\"$\\epsilon$\", fontsize = \"30\")\n",
    "\n",
    "plt.grid()\n",
    "plt.tight_layout()"
   ]
  },
  {
   "cell_type": "code",
   "execution_count": 17,
   "metadata": {},
   "outputs": [
    {
     "data": {
      "image/png": "[encoded data removed]",
      "text/plain": [
       "<Figure size 720x432 with 1 Axes>"
      ]
     },
     "metadata": {
      "needs_background": "light"
     },
     "output_type": "display_data"
    }
   ],
   "source": [
    "plt.figure(figsize=(10, 6))\n",
    "\n",
    "plt.plot(epsilons[:21], curve_all[:21], label =\"ACP (D) (AUC = {})\".format(AUC_all), linewidth = 3)\n",
    "plt.plot(epsilons[:21], curve_all_split_cp[:21], label =\"SCP (AUC = {})\".format(AUC_all_split_cp), linewidth = 3, color=\"green\")\n",
    "plt.plot(epsilons[:21], curve_all_RAPS[:21], label =\"RAPS (AUC = {})\".format(AUC_all_RAPS), linewidth = 3, color = \"red\")\n",
    "plt.plot(epsilons[:21], curve_all_CV_plus[:21], label =\"CV+ (AUC = {})\".format(AUC_all_CV_plus), linewidth = 3, color = \"m\")\n",
    "\n",
    "plt.legend(fontsize = \"24\", shadow = True, facecolor='white', framealpha=1)\n",
    "plt.xscale(\"linear\")\n",
    "plt.xlim([-0.0001, 0.2])\n",
    "plt.ylim([-0.01, N_CLASSES])\n",
    "plt.xticks([0, 0.05, 0.1, 0.15, 0.2], fontsize = \"28\")\n",
    "plt.yticks(np.arange(N_CLASSES+1).tolist(), fontsize = \"28\")\n",
    "plt.ylabel(\"Prediction set size\", fontsize = \"36\")\n",
    "plt.xlabel(r\"$\\epsilon$\", fontsize = \"30\")\n",
    "\n",
    "plt.grid()\n",
    "plt.tight_layout()"
   ]
  },
  {
   "cell_type": "markdown",
   "metadata": {},
   "source": [
    "$\\textbf{EXPERIMENTS WITH REAL DATA}$"
   ]
  },
  {
   "cell_type": "markdown",
   "metadata": {},
   "source": [
    "Let us now see how ACP would perform in CIFAR-10. We load the dataset, apply the pre-processing and optionally reduce the dimensionality of the images with an autoencoder (AE)."
   ]
  },
  {
   "cell_type": "code",
   "execution_count": 18,
   "metadata": {},
   "outputs": [],
   "source": [
    "from tensorflow.keras.datasets import cifar10\n",
    "\n",
    "#1-loading cifar-10\n",
    "(Xtrain, Ytrain), (Xtest, Ytest) = cifar10.load_data() \n",
    "\n",
    "#2-Applying pre-processing\n",
    "Xtrain = normalize_flatten(Xtrain) \n",
    "Xtest = normalize_flatten(Xtest)\n",
    "Ytrain = scalar(Ytrain)\n",
    "Ytest = scalar(Ytest)\n",
    "\n",
    "#3-We reduce the dimensionality with an AE. Here we set an embedding of size 8\n",
    "EMBEDDING_SIZE = 8\n",
    "autoencoder = AE(input_shape=Xtrain.shape[1], embedding_size=EMBEDDING_SIZE, seed = SEED).to(device) \n",
    "autoencoder.load_state_dict(torch.load(\"models/AE_CIFAR-10_\"+str(EMBEDDING_SIZE), map_location = 'cuda'))\n",
    "Xtrain_emb = np.array(autoencoder.embed(Xtrain))\n",
    "Xtest_emb = np.array(autoencoder.embed(Xtest))"
   ]
  },
  {
   "cell_type": "markdown",
   "metadata": {},
   "source": [
    "Similarly to the previous experiment, we build ACP using the CIFAR-10 training set."
   ]
  },
  {
   "cell_type": "code",
   "execution_count": 19,
   "metadata": {},
   "outputs": [
    {
     "name": "stdout",
     "output_type": "stream",
     "text": [
      "Training model on 50000 samples\n",
      "Epoch: 1 - Validation Loss: 2.6859\n",
      "Epoch: 10 - Validation Loss: 2.0244\n",
      "Epoch: 20 - Validation Loss: 1.9764\n",
      "Epoch: 30 - Validation Loss: 1.9665\n",
      "Epoch: 40 - Validation Loss: 1.9663\n",
      "Epoch: 50 - Validation Loss: 1.9619\n",
      "Computing gradients and Hessian inverse\n",
      "Computing scores for 50000 samples\n",
      "Conformal predictor is ready!\n"
     ]
    }
   ],
   "source": [
    "NUM_NEURONS = [20,10] \n",
    "REG = 0.01\n",
    "model = NeuralNetwork(input_size = Xtrain_emb.shape[1], num_neurons = NUM_NEURONS, out_size = len(np.unique(Ytest)), seed = SEED, l2_reg = REG)\n",
    "ACP = ACP_D(Xtrain_emb, Ytrain, model, seed = SEED, verbose = True)"
   ]
  },
  {
   "cell_type": "markdown",
   "metadata": {},
   "source": [
    "Finally, we generate prediction sets for an image chosen uniformly at random. We fix a significance $\\varepsilon=0.1$."
   ]
  },
  {
   "cell_type": "code",
   "execution_count": 20,
   "metadata": {},
   "outputs": [
    {
     "name": "stderr",
     "output_type": "stream",
     "text": [
      "\r",
      "  0%|                                                                                            | 0/1 [00:00<?, ?it/s]"
     ]
    },
    {
     "name": "stdout",
     "output_type": "stream",
     "text": [
      "Computing p-values for 1 samples\n"
     ]
    },
    {
     "name": "stderr",
     "output_type": "stream",
     "text": [
      "100%|███████████████████████████████████████████████████████████████████████████████████| 1/1 [02:14<00:00, 134.19s/it]\n"
     ]
    }
   ],
   "source": [
    "cand = random.randint(0, len(Ytest)-1)\n",
    "eps = 0.1\n",
    "sets = ACP.predict(Xtest_emb[cand].reshape(1, -1), eps, out_file = \"results/CIFAR-10\")"
   ]
  },
  {
   "cell_type": "code",
   "execution_count": 21,
   "metadata": {},
   "outputs": [
    {
     "data": {
      "image/png": "[encoded data removed]",
      "text/plain": [
       "<Figure size 460.8x316.8 with 1 Axes>"
      ]
     },
     "metadata": {
      "needs_background": "light"
     },
     "output_type": "display_data"
    },
    {
     "name": "stdout",
     "output_type": "stream",
     "text": [
      "\n",
      "True label: truck\n",
      "Prediction set: ['airplane', 'automobile', 'ship', 'truck']\n"
     ]
    }
   ],
   "source": [
    "labels = [\"airplane\", \"automobile\", \"bird\", \"cat\", \"deer\", \"dog\", \"frog\", \"horse\", \"ship\", \"truck\"]\n",
    "\n",
    "image = Xtest[cand].reshape(32,32,3)\n",
    "fig = plt.figure\n",
    "plt.imshow(image)\n",
    "plt.show()\n",
    "\n",
    "print()\n",
    "print(\"True label: \" + labels[Ytest[cand]])\n",
    "print(\"Prediction set: \" + str([labels[label] for label in sets[0]]))"
   ]
  }
 ],
 "metadata": {
  "kernelspec": {
   "display_name": "Python 3",
   "language": "python",
   "name": "python3"
  },
  "language_info": {
   "codemirror_mode": {
    "name": "ipython",
    "version": 3
   },
   "file_extension": ".py",
   "mimetype": "text/x-python",
   "name": "python",
   "nbconvert_exporter": "python",
   "pygments_lexer": "ipython3",
   "version": "3.7.6"
  }
 },
 "nbformat": 4,
 "nbformat_minor": 5
}
